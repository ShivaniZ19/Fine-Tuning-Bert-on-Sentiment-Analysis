{
 "cells": [
  {
   "cell_type": "markdown",
   "id": "ef953cd3-63f7-4c2a-bc5b-432bc04c7311",
   "metadata": {},
   "source": [
    "IMDB - BERT MULTILINGUAL - 50000 Data"
   ]
  },
  {
   "cell_type": "code",
   "execution_count": 1,
   "id": "cf1bad42-8357-4a04-a9c8-b7ff587c70ba",
   "metadata": {
    "scrolled": true
   },
   "outputs": [
    {
     "name": "stdout",
     "output_type": "stream",
     "text": [
      "Fri Apr  5 11:48:43 2024       \n",
      "+---------------------------------------------------------------------------------------+\n",
      "| NVIDIA-SMI 535.86.10              Driver Version: 535.86.10    CUDA Version: 12.2     |\n",
      "|-----------------------------------------+----------------------+----------------------+\n",
      "| GPU  Name                 Persistence-M | Bus-Id        Disp.A | Volatile Uncorr. ECC |\n",
      "| Fan  Temp   Perf          Pwr:Usage/Cap |         Memory-Usage | GPU-Util  Compute M. |\n",
      "|                                         |                      |               MIG M. |\n",
      "|=========================================+======================+======================|\n",
      "|   0  NVIDIA GeForce GTX 1080        On  | 00000000:04:00.0 Off |                  N/A |\n",
      "|  0%   27C    P8               7W / 180W |      1MiB /  8192MiB |      0%      Default |\n",
      "|                                         |                      |                  N/A |\n",
      "+-----------------------------------------+----------------------+----------------------+\n",
      "|   1  NVIDIA GeForce GTX 1080        On  | 00000000:05:00.0 Off |                  N/A |\n",
      "|  0%   27C    P8               7W / 180W |      1MiB /  8192MiB |      0%      Default |\n",
      "|                                         |                      |                  N/A |\n",
      "+-----------------------------------------+----------------------+----------------------+\n",
      "|   2  NVIDIA GeForce RTX 2080 Ti     On  | 00000000:08:00.0 Off |                  N/A |\n",
      "|  0%   27C    P8              15W / 250W |      1MiB / 11264MiB |      0%      Default |\n",
      "|                                         |                      |                  N/A |\n",
      "+-----------------------------------------+----------------------+----------------------+\n",
      "|   3  NVIDIA GeForce RTX 2080 Ti     On  | 00000000:09:00.0 Off |                  N/A |\n",
      "|  0%   26C    P8               1W / 250W |      1MiB / 11264MiB |      0%      Default |\n",
      "|                                         |                      |                  N/A |\n",
      "+-----------------------------------------+----------------------+----------------------+\n",
      "|   4  NVIDIA GeForce GTX 1080        On  | 00000000:83:00.0 Off |                  N/A |\n",
      "|  0%   27C    P8               6W / 180W |      1MiB /  8192MiB |      0%      Default |\n",
      "|                                         |                      |                  N/A |\n",
      "+-----------------------------------------+----------------------+----------------------+\n",
      "|   5  NVIDIA GeForce GTX 1080        On  | 00000000:84:00.0 Off |                  N/A |\n",
      "|  0%   27C    P8               6W / 180W |      1MiB /  8192MiB |      0%      Default |\n",
      "|                                         |                      |                  N/A |\n",
      "+-----------------------------------------+----------------------+----------------------+\n",
      "|   6  NVIDIA GeForce RTX 2080 Ti     On  | 00000000:87:00.0 Off |                  N/A |\n",
      "|  0%   27C    P8              17W / 250W |      1MiB / 11264MiB |      0%      Default |\n",
      "|                                         |                      |                  N/A |\n",
      "+-----------------------------------------+----------------------+----------------------+\n",
      "                                                                                         \n",
      "+---------------------------------------------------------------------------------------+\n",
      "| Processes:                                                                            |\n",
      "|  GPU   GI   CI        PID   Type   Process name                            GPU Memory |\n",
      "|        ID   ID                                                             Usage      |\n",
      "|=======================================================================================|\n",
      "|  No running processes found                                                           |\n",
      "+---------------------------------------------------------------------------------------+\n"
     ]
    }
   ],
   "source": [
    "!nvidia-smi"
   ]
  },
  {
   "cell_type": "code",
   "execution_count": 2,
   "id": "72c40c28-b0d7-4f7e-893f-c4f090ca2de3",
   "metadata": {},
   "outputs": [],
   "source": [
    "import os\n",
    "\n",
    "# Set the CUDA_VISIBLE_DEVICES environment variable to the index of the GPU you want to use\n",
    "os.environ[\"CUDA_VISIBLE_DEVICES\"] = \"4\" "
   ]
  },
  {
   "cell_type": "code",
   "execution_count": 3,
   "id": "b84eedde-473c-4967-8674-061da2eedf3d",
   "metadata": {},
   "outputs": [
    {
     "name": "stderr",
     "output_type": "stream",
     "text": [
      "/home/hygumm/.local/lib/python3.10/site-packages/tqdm/auto.py:21: TqdmWarning: IProgress not found. Please update jupyter and ipywidgets. See https://ipywidgets.readthedocs.io/en/stable/user_install.html\n",
      "  from .autonotebook import tqdm as notebook_tqdm\n"
     ]
    }
   ],
   "source": [
    "from transformers import BertTokenizer, BertModel\n",
    "tokenizer = BertTokenizer.from_pretrained('bert-base-multilingual-cased')\n",
    "model = BertModel.from_pretrained(\"bert-base-multilingual-cased\")"
   ]
  },
  {
   "cell_type": "code",
   "execution_count": 4,
   "id": "c9e137a7-d5b1-41b8-940d-4ed1c3280847",
   "metadata": {},
   "outputs": [],
   "source": [
    "import pandas as pd\n",
    "from sklearn.model_selection import train_test_split\n",
    "from transformers import BertTokenizer\n",
    "from torch.utils.data import Dataset, DataLoader\n",
    "import torch\n",
    "from transformers import BertModel\n",
    "import torch.nn as nn\n",
    "from torch.optim import Adam\n",
    "from sklearn.metrics import accuracy_score\n",
    "import numpy as np\n",
    "from sklearn.metrics import confusion_matrix\n",
    "import seaborn as sns\n",
    "import matplotlib.pyplot as plt\n"
   ]
  },
  {
   "cell_type": "code",
   "execution_count": 5,
   "id": "687c19e1-71e3-4255-9829-055be62d540d",
   "metadata": {},
   "outputs": [],
   "source": [
    "import torch\n",
    "torch.cuda.empty_cache()"
   ]
  },
  {
   "cell_type": "code",
   "execution_count": 6,
   "id": "89c6a4c3-27a0-494d-b4c6-c4e4e29de7be",
   "metadata": {},
   "outputs": [
    {
     "data": {
      "text/html": [
       "<div>\n",
       "<style scoped>\n",
       "    .dataframe tbody tr th:only-of-type {\n",
       "        vertical-align: middle;\n",
       "    }\n",
       "\n",
       "    .dataframe tbody tr th {\n",
       "        vertical-align: top;\n",
       "    }\n",
       "\n",
       "    .dataframe thead th {\n",
       "        text-align: right;\n",
       "    }\n",
       "</style>\n",
       "<table border=\"1\" class=\"dataframe\">\n",
       "  <thead>\n",
       "    <tr style=\"text-align: right;\">\n",
       "      <th></th>\n",
       "      <th>Unnamed: 0</th>\n",
       "      <th>text</th>\n",
       "      <th>label</th>\n",
       "    </tr>\n",
       "  </thead>\n",
       "  <tbody>\n",
       "    <tr>\n",
       "      <th>0</th>\n",
       "      <td>0</td>\n",
       "      <td>Forget what I said about Emeril. Rachael Ray i...</td>\n",
       "      <td>0</td>\n",
       "    </tr>\n",
       "    <tr>\n",
       "      <th>1</th>\n",
       "      <td>1</td>\n",
       "      <td>Former private eye-turned-security guard ditch...</td>\n",
       "      <td>0</td>\n",
       "    </tr>\n",
       "    <tr>\n",
       "      <th>2</th>\n",
       "      <td>2</td>\n",
       "      <td>Mann photographs the Alberta Rocky Mountains i...</td>\n",
       "      <td>0</td>\n",
       "    </tr>\n",
       "    <tr>\n",
       "      <th>3</th>\n",
       "      <td>3</td>\n",
       "      <td>Simply put: the movie is boring. Cliché upon c...</td>\n",
       "      <td>0</td>\n",
       "    </tr>\n",
       "    <tr>\n",
       "      <th>4</th>\n",
       "      <td>4</td>\n",
       "      <td>Now being a fan of sci fi, the trailer for thi...</td>\n",
       "      <td>1</td>\n",
       "    </tr>\n",
       "    <tr>\n",
       "      <th>...</th>\n",
       "      <td>...</td>\n",
       "      <td>...</td>\n",
       "      <td>...</td>\n",
       "    </tr>\n",
       "    <tr>\n",
       "      <th>49995</th>\n",
       "      <td>49995</td>\n",
       "      <td>The \"documentary\", and we use that term loosel...</td>\n",
       "      <td>0</td>\n",
       "    </tr>\n",
       "    <tr>\n",
       "      <th>49996</th>\n",
       "      <td>49996</td>\n",
       "      <td>This outlandish Troma movie is actually a very...</td>\n",
       "      <td>1</td>\n",
       "    </tr>\n",
       "    <tr>\n",
       "      <th>49997</th>\n",
       "      <td>49997</td>\n",
       "      <td>I found the film Don't Look In The Basement to...</td>\n",
       "      <td>1</td>\n",
       "    </tr>\n",
       "    <tr>\n",
       "      <th>49998</th>\n",
       "      <td>49998</td>\n",
       "      <td>I have read the novel Reaper of Ben Mezrich a ...</td>\n",
       "      <td>0</td>\n",
       "    </tr>\n",
       "    <tr>\n",
       "      <th>49999</th>\n",
       "      <td>49999</td>\n",
       "      <td>Went to see this finnish film and I've got to ...</td>\n",
       "      <td>1</td>\n",
       "    </tr>\n",
       "  </tbody>\n",
       "</table>\n",
       "<p>50000 rows × 3 columns</p>\n",
       "</div>"
      ],
      "text/plain": [
       "       Unnamed: 0                                               text  label\n",
       "0               0  Forget what I said about Emeril. Rachael Ray i...      0\n",
       "1               1  Former private eye-turned-security guard ditch...      0\n",
       "2               2  Mann photographs the Alberta Rocky Mountains i...      0\n",
       "3               3  Simply put: the movie is boring. Cliché upon c...      0\n",
       "4               4  Now being a fan of sci fi, the trailer for thi...      1\n",
       "...           ...                                                ...    ...\n",
       "49995       49995  The \"documentary\", and we use that term loosel...      0\n",
       "49996       49996  This outlandish Troma movie is actually a very...      1\n",
       "49997       49997  I found the film Don't Look In The Basement to...      1\n",
       "49998       49998  I have read the novel Reaper of Ben Mezrich a ...      0\n",
       "49999       49999  Went to see this finnish film and I've got to ...      1\n",
       "\n",
       "[50000 rows x 3 columns]"
      ]
     },
     "execution_count": 6,
     "metadata": {},
     "output_type": "execute_result"
    }
   ],
   "source": [
    "df = pd.read_csv(\"imdb.csv\")\n",
    "df"
   ]
  },
  {
   "cell_type": "code",
   "execution_count": 7,
   "id": "2c4d7424-6800-49c9-8923-0ff1b68e3a9b",
   "metadata": {},
   "outputs": [],
   "source": [
    "# Assuming the dataset is loaded from a CSV file\n",
    "df.drop('Unnamed: 0', inplace= True, axis=1)\n",
    "# df = df.sample(n=1000, replace=False)\n",
    "\n",
    "# Split the dataset into training and testing sets\n",
    "train_df, test_df = train_test_split(df, test_size=0.2, random_state=42)\n",
    "train_df = train_df.reset_index(drop=True)\n",
    "test_df = test_df.reset_index(drop=True)\n",
    "\n",
    "\n",
    "# Initialize the BERT tokenizer\n",
    "tokenizer = BertTokenizer.from_pretrained('bert-base-multilingual-cased')\n",
    "\n",
    "class IMDbDataset(Dataset):\n",
    "    def __init__(self, dataframe, tokenizer, max_len=256):\n",
    "        self.tokenizer = tokenizer\n",
    "        self.data = dataframe\n",
    "        self.text = dataframe.text\n",
    "        self.targets = dataframe.label\n",
    "        self.max_len = max_len\n",
    "\n",
    "    def __len__(self):\n",
    "        return len(self.text)\n",
    "\n",
    "    def __getitem__(self, index):\n",
    "        text = str(self.text[index])\n",
    "        text = \" \".join(text.split())\n",
    "\n",
    "        inputs = self.tokenizer.encode_plus(\n",
    "            text,\n",
    "            None,\n",
    "            add_special_tokens=True,\n",
    "            max_length=self.max_len,\n",
    "            padding='max_length',\n",
    "            return_token_type_ids=True,\n",
    "            truncation=True,\n",
    "            return_attention_mask=True,\n",
    "            return_tensors='pt'\n",
    "        )\n",
    "\n",
    "        return {\n",
    "            'ids': inputs['input_ids'].flatten(),\n",
    "            'mask': inputs['attention_mask'].flatten(),\n",
    "            'targets': torch.tensor(self.targets[index], dtype=torch.long)\n",
    "        }\n",
    "\n",
    "# Create training and validation datasets\n",
    "train_dataset = IMDbDataset(train_df, tokenizer)\n",
    "test_dataset = IMDbDataset(test_df, tokenizer)\n",
    "\n",
    "# DataLoader parameters\n",
    "train_params = {'batch_size': 8, 'shuffle': True, 'num_workers': 0}\n",
    "test_params = {'batch_size': 8, 'shuffle': False, 'num_workers': 0}\n",
    "\n",
    "# Loaders\n",
    "training_loader = DataLoader(train_dataset, **train_params)\n",
    "testing_loader = DataLoader(test_dataset, **test_params)\n"
   ]
  },
  {
   "cell_type": "code",
   "execution_count": 8,
   "id": "70f6818b-eab0-4451-b812-153432ce84d7",
   "metadata": {},
   "outputs": [],
   "source": [
    "\n",
    "\n",
    "class BERTLSTM(nn.Module):\n",
    "    def __init__(self):\n",
    "        super(BERTLSTM, self).__init__()\n",
    "        self.bert = BertModel.from_pretrained(\"bert-base-multilingual-cased\")\n",
    "        self.lstm = nn.LSTM(768, 256, batch_first=True, bidirectional=True)\n",
    "        self.linear = nn.Linear(256*2, 1)\n",
    "\n",
    "    def forward(self, input_ids, attention_mask):\n",
    "        with torch.no_grad():\n",
    "            _, pooled_output = self.bert(input_ids=input_ids, attention_mask=attention_mask, return_dict=False)\n",
    "\n",
    "        lstm_output, (hidden_state, _) = self.lstm(pooled_output.unsqueeze(1))\n",
    "        hidden_state = torch.cat((hidden_state[-2,:,:], hidden_state[-1,:,:]), dim=1)\n",
    "        linear_output = self.linear(hidden_state)\n",
    "        return torch.sigmoid(linear_output)"
   ]
  },
  {
   "cell_type": "code",
   "execution_count": null,
   "id": "1495099e-5c94-4256-8427-628317b7661b",
   "metadata": {
    "scrolled": true
   },
   "outputs": [],
   "source": [
    "# Quick test to see if DataLoader works correctly\n",
    "for i, data in enumerate(training_loader):\n",
    "    print(f\"Batch {i}: {data['ids'].size()}\")\n",
    "    if i == 10:  # Just check the first 10 batches\n",
    "        break\n"
   ]
  },
  {
   "cell_type": "code",
   "execution_count": 9,
   "id": "3c2b1ae5-3c4d-46f2-bb8c-657ab0b1c297",
   "metadata": {
    "scrolled": true
   },
   "outputs": [
    {
     "name": "stdout",
     "output_type": "stream",
     "text": [
      "Epoch: 0, Loss:  0.6913712024688721\n",
      "Epoch: 1, Loss:  0.6981779932975769\n",
      "Epoch: 2, Loss:  0.6384446620941162\n"
     ]
    }
   ],
   "source": [
    "\n",
    "\n",
    "device = torch.device(\"cuda\" if torch.cuda.is_available() else \"cpu\")\n",
    "\n",
    "model = BERTLSTM().to(device)\n",
    "optimizer = Adam(model.parameters(), lr=1e-5)\n",
    "\n",
    "def train(epoch):\n",
    "    model.train()\n",
    "    for _,data in enumerate(training_loader, 0):\n",
    "        ids = data['ids'].to(device, dtype = torch.long)\n",
    "        mask = data['mask'].to(device, dtype = torch.long)\n",
    "        targets = data['targets'].to(device, dtype = torch.float)\n",
    "\n",
    "        outputs = model(ids, mask).squeeze()\n",
    "        optimizer.zero_grad()\n",
    "        loss = nn.BCELoss()(outputs, targets)\n",
    "        if _%5000==0:\n",
    "            print(f'Epoch: {epoch}, Loss:  {loss.item()}')\n",
    "        \n",
    "        loss.backward()\n",
    "        optimizer.step()\n",
    "\n",
    "for epoch in range(3):  # Example for 3 epochs\n",
    "    train(epoch)\n"
   ]
  },
  {
   "cell_type": "code",
   "execution_count": 10,
   "id": "0f616477-67b8-4b26-acfe-d37e1b88cfbe",
   "metadata": {},
   "outputs": [
    {
     "name": "stdout",
     "output_type": "stream",
     "text": [
      "Test Accuracy: 0.6613\n"
     ]
    }
   ],
   "source": [
    " def evaluate():\n",
    "    model.eval()\n",
    "    fin_targets=[]\n",
    "    fin_outputs=[]\n",
    "    with torch.no_grad():\n",
    "        for _, data in enumerate(testing_loader, 0):\n",
    "            ids = data['ids'].to(device, dtype = torch.long)\n",
    "            mask = data['mask'].to(device, dtype = torch.long)\n",
    "            targets = data['targets'].to(device, dtype = torch.float)\n",
    "            outputs = model(ids, mask).squeeze()\n",
    "            fin_targets.extend(targets.cpu().detach().numpy().tolist())\n",
    "            fin_outputs.extend(torch.round(outputs).cpu().detach().numpy().tolist())\n",
    "    return accuracy_score(fin_targets, fin_outputs)\n",
    "\n",
    "print(f'Test Accuracy: {evaluate()}')"
   ]
  },
  {
   "cell_type": "code",
   "execution_count": 11,
   "id": "81549c8a-c655-4ba2-98c2-40cc2cfbdb15",
   "metadata": {
    "scrolled": true
   },
   "outputs": [
    {
     "data": {
      "image/png": "[encoded data removed]",
      "text/plain": [
       "<Figure size 640x480 with 2 Axes>"
      ]
     },
     "metadata": {},
     "output_type": "display_data"
    }
   ],
   "source": [
    "\n",
    "def get_predictions(loader):\n",
    "    model.eval()\n",
    "    predictions = []\n",
    "    true_labels = []\n",
    "    with torch.no_grad():\n",
    "        for data in loader:\n",
    "            ids = data['ids'].to(device, dtype=torch.long)\n",
    "            mask = data['mask'].to(device, dtype=torch.long)\n",
    "            targets = data['targets'].to(device, dtype=torch.float)\n",
    "            outputs = model(ids, mask).squeeze()\n",
    "            predictions.extend(torch.round(outputs).cpu().detach().numpy().tolist())\n",
    "            true_labels.extend(targets.cpu().detach().numpy().tolist())\n",
    "    return predictions, true_labels\n",
    "\n",
    "# Get predictions and true labels\n",
    "predictions, true_labels = get_predictions(testing_loader)\n",
    "\n",
    "# Generate the confusion matrix\n",
    "cm = confusion_matrix(true_labels, predictions)\n",
    "sns.heatmap(cm, annot=True, fmt='d')\n",
    "plt.xlabel('Predicted Labels')\n",
    "plt.ylabel('True Labels')\n",
    "plt.title('Confusion Matrix')\n",
    "plt.show()\n"
   ]
  },
  {
   "cell_type": "code",
   "execution_count": 12,
   "id": "f6f05077-db50-40ac-a6b3-0847626a265f",
   "metadata": {},
   "outputs": [
    {
     "name": "stdout",
     "output_type": "stream",
     "text": [
      "True Positives (TP): 3849\n",
      "False Positives (FP): 2260\n",
      "True Negatives (TN): 2764\n",
      "False Negatives (FN): 1127\n"
     ]
    }
   ],
   "source": [
    "# Calculate TP, FP, TN, FN\n",
    "TP = cm[1][1]\n",
    "FP = cm[0][1]\n",
    "TN = cm[0][0]\n",
    "FN = cm[1][0]\n",
    "\n",
    "print(\"True Positives (TP):\", TP)\n",
    "print(\"False Positives (FP):\", FP)\n",
    "print(\"True Negatives (TN):\", TN)\n",
    "print(\"False Negatives (FN):\", FN)"
   ]
  },
  {
   "cell_type": "code",
   "execution_count": 30,
   "id": "148691d7-dd11-4c91-866a-aa338c8d5e6d",
   "metadata": {},
   "outputs": [
    {
     "name": "stdout",
     "output_type": "stream",
     "text": [
      "Positive\n"
     ]
    }
   ],
   "source": [
    "def predict_sentiment(text):\n",
    "    model.eval()\n",
    "    inputs = tokenizer.encode_plus(\n",
    "        text,\n",
    "        None,\n",
    "        add_special_tokens=True,\n",
    "        max_length=256,\n",
    "        padding='max_length',\n",
    "        return_token_type_ids=True,\n",
    "        truncation=True,\n",
    "        return_attention_mask=True,\n",
    "        return_tensors='pt'\n",
    "    )\n",
    "    ids = inputs['input_ids'].to(device, dtype=torch.long)\n",
    "    mask = inputs['attention_mask'].to(device, dtype=torch.long)\n",
    "    \n",
    "    with torch.no_grad():\n",
    "        output = model(ids, mask).squeeze()\n",
    "    \n",
    "    prediction = torch.round(output).cpu().numpy()\n",
    "    return \"Positive\" if prediction == 1 else \"Negative\"\n",
    "\n",
    "# Example usage\n",
    "example_text = \"I loved the movie, it was fantastic i really loved it!\"\n",
    "print(predict_sentiment(example_text))"
   ]
  },
  {
   "cell_type": "code",
   "execution_count": 14,
   "id": "a69f1789-e757-4cbf-a7e2-29849765597d",
   "metadata": {},
   "outputs": [
    {
     "name": "stdout",
     "output_type": "stream",
     "text": [
      "Positive\n"
     ]
    }
   ],
   "source": [
    "# Example usage\n",
    "example_text = '''\"Aaaaand The Star Buoy hits it out of the park yet again!\n",
    "\n",
    "What a hilarious ride. Tillu is a true blue phenomenon in the realm of Telugu Cinema 💙 \n",
    "And nobody can do justice to it like Siddu!\n",
    "What energy, what charm ❤️\n",
    "\n",
    "Tillu is not to be reviewed, questioned, or analyzed. He is simply meant to be loved, \n",
    "so gooo watch and enjoy the fun partyyy! The one-liners and Anupama(superbly written - stellar performance)\n",
    "are the other standouts in this Siddu Jonnalagadda  bonanza 🎉 Don'tttt missss!\"'''\n",
    "print(predict_sentiment(example_text))"
   ]
  },
  {
   "cell_type": "code",
   "execution_count": null,
   "id": "15f72cfd-1c23-49bf-b89d-eb20f368554f",
   "metadata": {},
   "outputs": [],
   "source": []
  }
 ],
 "metadata": {
  "kernelspec": {
   "display_name": "Python 3 (ipykernel)",
   "language": "python",
   "name": "python3"
  },
  "language_info": {
   "codemirror_mode": {
    "name": "ipython",
    "version": 3
   },
   "file_extension": ".py",
   "mimetype": "text/x-python",
   "name": "python",
   "nbconvert_exporter": "python",
   "pygments_lexer": "ipython3",
   "version": "3.10.12"
  }
 },
 "nbformat": 4,
 "nbformat_minor": 5
}
