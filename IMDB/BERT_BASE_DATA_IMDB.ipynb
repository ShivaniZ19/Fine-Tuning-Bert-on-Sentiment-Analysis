{
 "cells": [
  {
   "cell_type": "code",
   "execution_count": null,
   "metadata": {
    "colab": {
     "base_uri": "https://localhost:8080/"
    },
    "id": "rYIjBvilyM7W",
    "outputId": "9938e6ec-81e7-422c-bc4a-af7c1b6d7214"
   },
   "outputs": [],
   "source": [
    "# from google.colab import drive\n",
    "# drive.mount(\"/content/drive\")"
   ]
  },
  {
   "cell_type": "code",
   "execution_count": null,
   "metadata": {
    "id": "p8uKhEFIzEZP"
   },
   "outputs": [],
   "source": [
    "# path = \"/content/drive/MyDrive/Sentiment-Analysis-using-BERT-master/Sentiment-Analysis-using-BERT-master/Data/\""
   ]
  },
  {
   "cell_type": "code",
   "execution_count": 1,
   "metadata": {
    "id": "Qk1PQT8VzFsJ"
   },
   "outputs": [],
   "source": [
    "import pickle\n",
    "import pandas as pd\n",
    "df = pd.read_csv(\"train.csv\")\n",
    "df = df.dropna()"
   ]
  },
  {
   "cell_type": "code",
   "execution_count": null,
   "metadata": {},
   "outputs": [],
   "source": [
    "# df = df.sample(n=1000, random_state=42)"
   ]
  },
  {
   "cell_type": "code",
   "execution_count": 2,
   "metadata": {
    "id": "Tem0yKN6zGYH"
   },
   "outputs": [],
   "source": [
    "data = df.review.to_list()\n",
    "label = df.label.to_list()"
   ]
  },
  {
   "cell_type": "code",
   "execution_count": null,
   "metadata": {
    "id": "9KCql_7FzHEw"
   },
   "outputs": [],
   "source": [
    "#!pip install -q keras-bert==0.85.0\n",
    "#!pip install -q keras-rectified-adam"
   ]
  },
  {
   "cell_type": "code",
   "execution_count": null,
   "metadata": {
    "colab": {
     "base_uri": "https://localhost:8080/"
    },
    "id": "H2acYvZnzHuq",
    "outputId": "1253fd18-2fa8-4468-81df-90742ae424ec",
    "scrolled": true
   },
   "outputs": [],
   "source": [
    "!wget -q https://storage.googleapis.com/bert_models/2018_11_23/multi_cased_L-12_H-768_A-12.zip\n",
    "!unzip -o multi_cased_L-12_H-768_A-12.zip"
   ]
  },
  {
   "cell_type": "code",
   "execution_count": null,
   "metadata": {
    "colab": {
     "base_uri": "https://localhost:8080/"
    },
    "id": "2KgBcTZQdcaZ",
    "outputId": "524e8b16-b1df-4ab5-c6a5-4c5ed5a3769d",
    "scrolled": true
   },
   "outputs": [],
   "source": [
    "#!pip install tensorflow-addons"
   ]
  },
  {
   "cell_type": "code",
   "execution_count": null,
   "metadata": {
    "colab": {
     "base_uri": "https://localhost:8080/",
     "height": 647
    },
    "id": "1ZAqtPr4dhq5",
    "outputId": "09445387-687c-4c04-b56a-7e3514853e5c",
    "scrolled": true
   },
   "outputs": [],
   "source": [
    "#from tensorflow_addons.optimizers import RAdam"
   ]
  },
  {
   "cell_type": "code",
   "execution_count": null,
   "metadata": {
    "id": "mUtNYP_zzi6-"
   },
   "outputs": [],
   "source": []
  },
  {
   "cell_type": "code",
   "execution_count": null,
   "metadata": {
    "colab": {
     "base_uri": "https://localhost:8080/"
    },
    "id": "h3NCueUKgCQJ",
    "outputId": "bbd7a4e1-62bd-4a1f-88fc-1f2e1f5532ad"
   },
   "outputs": [],
   "source": [
    "# Install the required libraries\n",
    "!pip install -q keras-bert==0.88.0\n",
    "!pip install -q keras-radam==0.2.0\n",
    "\n",
    "# Download and extract the BERT model\n",
    "!wget -q https://storage.googleapis.com/bert_models/2018_11_23/multi_cased_L-12_H-768_A-12.zip\n",
    "!unzip -o multi_cased_L-12_H-768_A-12.zip"
   ]
  },
  {
   "cell_type": "code",
   "execution_count": null,
   "metadata": {
    "colab": {
     "base_uri": "https://localhost:8080/"
    },
    "id": "5m78v7SmgTok",
    "outputId": "d41d7191-0724-48ea-9911-dff5abaff1bd",
    "scrolled": true
   },
   "outputs": [],
   "source": [
    "# Install the required versions of TensorFlow and Keras\n",
    "!pip install tensorflow==2.10.1\n",
    "!pip install keras==2.10.0"
   ]
  },
  {
   "cell_type": "code",
   "execution_count": 3,
   "metadata": {
    "id": "Hf9pNNc3gYuV",
    "scrolled": true
   },
   "outputs": [
    {
     "name": "stderr",
     "output_type": "stream",
     "text": [
      "2024-04-15 01:41:20.429507: I tensorflow/core/platform/cpu_feature_guard.cc:193] This TensorFlow binary is optimized with oneAPI Deep Neural Network Library (oneDNN) to use the following CPU instructions in performance-critical operations:  AVX2 FMA\n",
      "To enable them in other operations, rebuild TensorFlow with the appropriate compiler flags.\n",
      "2024-04-15 01:41:20.682107: E tensorflow/stream_executor/cuda/cuda_blas.cc:2981] Unable to register cuBLAS factory: Attempting to register factory for plugin cuBLAS when one has already been registered\n",
      "2024-04-15 01:41:21.726044: W tensorflow/stream_executor/platform/default/dso_loader.cc:64] Could not load dynamic library 'libnvinfer_plugin.so.7'; dlerror: libnvinfer_plugin.so.7: cannot open shared object file: No such file or directory\n",
      "2024-04-15 01:41:21.726088: W tensorflow/compiler/tf2tensorrt/utils/py_utils.cc:38] TF-TRT Warning: Cannot dlopen some TensorRT libraries. If you would like to use Nvidia GPU with TensorRT, please make sure the missing libraries mentioned above are installed properly.\n"
     ]
    }
   ],
   "source": [
    "import codecs\n",
    "import tensorflow as tf\n",
    "from tensorflow import keras\n",
    "import os\n",
    "from keras_radam import RAdam\n",
    "from keras import backend as K\n",
    "from keras_bert import load_trained_model_from_checkpoint, Tokenizer\n",
    "import numpy as np"
   ]
  },
  {
   "cell_type": "code",
   "execution_count": 4,
   "metadata": {
    "id": "6L0LhR_1hJgh"
   },
   "outputs": [],
   "source": [
    "SEQ_LEN = 64  # Decrease sequence length\n",
    "BATCH_SIZE = 64  # Increase batch size\n",
    "EPOCHS = 5  # Decrease number of epochs\n",
    "LR = 1e-5  # Decrease learning rate\n",
    "\n",
    "pretrained_path = 'multi_cased_L-12_H-768_A-12'\n",
    "config_path = os.path.join(pretrained_path, 'bert_config.json')\n",
    "checkpoint_path = os.path.join(pretrained_path, 'bert_model.ckpt')\n",
    "vocab_path = os.path.join(pretrained_path, 'vocab.txt')"
   ]
  },
  {
   "cell_type": "code",
   "execution_count": 5,
   "metadata": {
    "colab": {
     "base_uri": "https://localhost:8080/"
    },
    "id": "9NNhVnbEhPA9",
    "outputId": "53ca434a-2524-40ee-8d78-69488a828376",
    "scrolled": true
   },
   "outputs": [
    {
     "name": "stderr",
     "output_type": "stream",
     "text": [
      "2024-04-15 01:41:25.374704: I tensorflow/core/platform/cpu_feature_guard.cc:193] This TensorFlow binary is optimized with oneAPI Deep Neural Network Library (oneDNN) to use the following CPU instructions in performance-critical operations:  AVX2 FMA\n",
      "To enable them in other operations, rebuild TensorFlow with the appropriate compiler flags.\n",
      "2024-04-15 01:41:32.577678: I tensorflow/core/common_runtime/gpu/gpu_device.cc:1616] Created device /job:localhost/replica:0/task:0/device:GPU:0 with 9639 MB memory:  -> device: 0, name: NVIDIA GeForce RTX 2080 Ti, pci bus id: 0000:08:00.0, compute capability: 7.5\n",
      "2024-04-15 01:41:32.579214: I tensorflow/core/common_runtime/gpu/gpu_device.cc:1616] Created device /job:localhost/replica:0/task:0/device:GPU:1 with 9639 MB memory:  -> device: 1, name: NVIDIA GeForce RTX 2080 Ti, pci bus id: 0000:09:00.0, compute capability: 7.5\n",
      "2024-04-15 01:41:32.580525: I tensorflow/core/common_runtime/gpu/gpu_device.cc:1616] Created device /job:localhost/replica:0/task:0/device:GPU:2 with 9639 MB memory:  -> device: 2, name: NVIDIA GeForce RTX 2080 Ti, pci bus id: 0000:87:00.0, compute capability: 7.5\n",
      "2024-04-15 01:41:32.581816: I tensorflow/core/common_runtime/gpu/gpu_device.cc:1616] Created device /job:localhost/replica:0/task:0/device:GPU:3 with 7379 MB memory:  -> device: 3, name: NVIDIA GeForce GTX 1080, pci bus id: 0000:04:00.0, compute capability: 6.1\n",
      "2024-04-15 01:41:32.583083: I tensorflow/core/common_runtime/gpu/gpu_device.cc:1616] Created device /job:localhost/replica:0/task:0/device:GPU:4 with 7379 MB memory:  -> device: 4, name: NVIDIA GeForce GTX 1080, pci bus id: 0000:05:00.0, compute capability: 6.1\n",
      "2024-04-15 01:41:32.584357: I tensorflow/core/common_runtime/gpu/gpu_device.cc:1616] Created device /job:localhost/replica:0/task:0/device:GPU:5 with 7379 MB memory:  -> device: 5, name: NVIDIA GeForce GTX 1080, pci bus id: 0000:83:00.0, compute capability: 6.1\n",
      "2024-04-15 01:41:32.585653: I tensorflow/core/common_runtime/gpu/gpu_device.cc:1616] Created device /job:localhost/replica:0/task:0/device:GPU:6 with 7379 MB memory:  -> device: 6, name: NVIDIA GeForce GTX 1080, pci bus id: 0000:84:00.0, compute capability: 6.1\n",
      "/home/hygumm/.local/lib/python3.10/site-packages/keras/initializers/initializers_v2.py:120: UserWarning: The initializer GlorotNormal is unseeded and being called multiple times, which will return identical values  each time (even if the initializer is unseeded). Please update your code to provide a seed to the initializer, or avoid using the same initalizer instance more than once.\n",
      "  warnings.warn(\n"
     ]
    }
   ],
   "source": [
    "model = load_trained_model_from_checkpoint(\n",
    "    config_path,\n",
    "    checkpoint_path,\n",
    "    trainable=True,\n",
    "    seq_len=SEQ_LEN,\n",
    "    output_layer_num=4\n",
    ")"
   ]
  },
  {
   "cell_type": "code",
   "execution_count": 6,
   "metadata": {
    "id": "R7OPUvRChS5K"
   },
   "outputs": [],
   "source": [
    "token_dict = {}\n",
    "with codecs.open(vocab_path, 'r', encoding='utf-8') as reader:\n",
    "    for line in reader:\n",
    "        token = line.strip()\n",
    "        token_dict[token] = len(token_dict)\n",
    "\n",
    "tokenizer = Tokenizer(token_dict, cased=False)  # Update based on the model"
   ]
  },
  {
   "cell_type": "code",
   "execution_count": 7,
   "metadata": {
    "id": "5UmtxEOKhdkb"
   },
   "outputs": [],
   "source": [
    "inputs = model.inputs[:2]\n",
    "newout = model.output[:, 0, :]\n",
    "newout = keras.layers.Dense(512, activation='relu')(newout)  # Update based on the model\n",
    "outputs = keras.layers.Dense(units=1, activation='sigmoid')(newout)\n",
    "model = keras.models.Model(inputs, outputs)"
   ]
  },
  {
   "cell_type": "code",
   "execution_count": 8,
   "metadata": {
    "id": "bwOlOcKE1vZw"
   },
   "outputs": [],
   "source": [
    "optimizer = keras.optimizers.Adam(learning_rate=LR)"
   ]
  },
  {
   "cell_type": "code",
   "execution_count": 9,
   "metadata": {
    "id": "zEfgkjEbhtfr"
   },
   "outputs": [],
   "source": [
    "# Compile your model using the tf.keras optimizer\n",
    "model.compile(optimizer=optimizer, loss='binary_crossentropy', metrics=['accuracy'])"
   ]
  },
  {
   "cell_type": "code",
   "execution_count": 10,
   "metadata": {
    "id": "s2WARRTEh0kC"
   },
   "outputs": [],
   "source": [
    "from sklearn.model_selection import train_test_split\n",
    "\n",
    "def load_data(data, sentiments):\n",
    "    global tokenizer\n",
    "    indices = []\n",
    "    for text in data:\n",
    "        ids, segments = tokenizer.encode(text, max_len=SEQ_LEN)\n",
    "        indices.append(ids)\n",
    "\n",
    "    return [np.array(indices), np.zeros_like(indices)], np.array(sentiments)\n",
    "\n",
    "data_train, data_valid, label_train, label_valid = train_test_split(data, label, test_size=0.15, random_state=48)\n",
    "X_train, Y_train = load_data(data_train, label_train)\n",
    "X_valid, Y_valid = load_data(data_valid, label_valid)"
   ]
  },
  {
   "cell_type": "code",
   "execution_count": 11,
   "metadata": {
    "id": "bCIZ1TS5iLXk"
   },
   "outputs": [],
   "source": [
    "test = pd.read_csv('test.csv')\n",
    "test = test.dropna()\n",
    "#test = test.sample(n=1000, random_state=42)\n",
    "data_test = test.review.tolist()\n",
    "label_test = test.label.tolist()\n",
    "X_test, Y_test = load_data(data_test, label_test)"
   ]
  },
  {
   "cell_type": "code",
   "execution_count": 12,
   "metadata": {
    "id": "nzGzWVXBiQRS"
   },
   "outputs": [],
   "source": [
    "from keras.callbacks import ModelCheckpoint\n",
    "checkpoint = ModelCheckpoint('256_checkpoint_data1.h5', monitor='val_accuracy', verbose=1, save_best_only=True, mode='max')\n",
    "callbacks_list = [checkpoint]"
   ]
  },
  {
   "cell_type": "code",
   "execution_count": 13,
   "metadata": {
    "colab": {
     "base_uri": "https://localhost:8080/"
    },
    "id": "wooTmWjpi4La",
    "outputId": "e9c56b9e-61e0-461e-d15c-3c3fc54c6e95",
    "scrolled": true
   },
   "outputs": [
    {
     "name": "stdout",
     "output_type": "stream",
     "text": [
      "The history saving thread hit an unexpected error (OperationalError('database is locked')).History will not be written to the database.\n",
      "Epoch 1/5\n",
      "532/532 [==============================] - ETA: 0s - loss: 0.5050 - accuracy: 0.7391\n",
      "Epoch 1: val_accuracy improved from -inf to 0.79117, saving model to 256_checkpoint_data1.h5\n",
      "532/532 [==============================] - 282s 473ms/step - loss: 0.5050 - accuracy: 0.7391 - val_loss: 0.4364 - val_accuracy: 0.7912\n",
      "Epoch 2/5\n",
      "532/532 [==============================] - ETA: 0s - loss: 0.3849 - accuracy: 0.8194\n",
      "Epoch 2: val_accuracy improved from 0.79117 to 0.81233, saving model to 256_checkpoint_data1.h5\n",
      "532/532 [==============================] - 253s 475ms/step - loss: 0.3849 - accuracy: 0.8194 - val_loss: 0.4082 - val_accuracy: 0.8123\n",
      "Epoch 3/5\n",
      "532/532 [==============================] - ETA: 0s - loss: 0.3171 - accuracy: 0.8580\n",
      "Epoch 3: val_accuracy did not improve from 0.81233\n",
      "532/532 [==============================] - 195s 366ms/step - loss: 0.3171 - accuracy: 0.8580 - val_loss: 0.4229 - val_accuracy: 0.8113\n",
      "Epoch 4/5\n",
      "532/532 [==============================] - ETA: 0s - loss: 0.2429 - accuracy: 0.8976\n",
      "Epoch 4: val_accuracy did not improve from 0.81233\n",
      "532/532 [==============================] - 197s 370ms/step - loss: 0.2429 - accuracy: 0.8976 - val_loss: 0.4911 - val_accuracy: 0.8020\n",
      "Epoch 5/5\n",
      "532/532 [==============================] - ETA: 0s - loss: 0.1742 - accuracy: 0.9306\n",
      "Epoch 5: val_accuracy did not improve from 0.81233\n",
      "532/532 [==============================] - 197s 371ms/step - loss: 0.1742 - accuracy: 0.9306 - val_loss: 0.6060 - val_accuracy: 0.8082\n",
      "313/313 [==============================] - 25s 60ms/step\n"
     ]
    }
   ],
   "source": [
    "model.fit(X_train, Y_train, epochs=EPOCHS, batch_size=BATCH_SIZE, verbose=1, validation_data=[X_valid, Y_valid], callbacks=callbacks_list)\n",
    "\n",
    "y_pred = np.round(model.predict(X_test))"
   ]
  },
  {
   "cell_type": "code",
   "execution_count": 14,
   "metadata": {
    "colab": {
     "base_uri": "https://localhost:8080/"
    },
    "id": "seDdYzXmjATz",
    "outputId": "3622a0c5-6032-4c6b-ed3f-fc212f3919c5",
    "scrolled": true
   },
   "outputs": [
    {
     "name": "stdout",
     "output_type": "stream",
     "text": [
      "0.7960799095363739\n",
      "0.8382615598333003\n",
      "0.816626389560174\n"
     ]
    }
   ],
   "source": [
    "from sklearn.metrics import precision_score, recall_score, f1_score\n",
    "print(precision_score(Y_test, y_pred))\n",
    "print(recall_score(Y_test, y_pred))\n",
    "print(f1_score(Y_test, y_pred))"
   ]
  },
  {
   "cell_type": "code",
   "execution_count": 15,
   "metadata": {},
   "outputs": [
    {
     "name": "stdout",
     "output_type": "stream",
     "text": [
      "Accuracy: 0.8103\n"
     ]
    }
   ],
   "source": [
    "from sklearn.metrics import accuracy_score\n",
    "\n",
    "accuracy = accuracy_score(Y_test, y_pred)\n",
    "print(\"Accuracy:\", accuracy)"
   ]
  },
  {
   "cell_type": "code",
   "execution_count": 16,
   "metadata": {
    "id": "OQydA1M7-HE0"
   },
   "outputs": [],
   "source": [
    "from sklearn.metrics import confusion_matrix\n",
    "import matplotlib.pyplot as plt\n",
    "import matplotlib\n",
    "import numpy as np\n",
    "import itertools\n",
    "matplotlib.rcParams.update({'font.size': 16})\n",
    "labels = [0, 1]\n",
    "cn = confusion_matrix(Y_test, y_pred, labels=labels)"
   ]
  },
  {
   "cell_type": "code",
   "execution_count": 17,
   "metadata": {
    "colab": {
     "base_uri": "https://localhost:8080/"
    },
    "id": "Q4ymvl7e-LO9",
    "outputId": "b269a68a-53c8-4f57-a604-b94105beaaea"
   },
   "outputs": [
    {
     "data": {
      "text/plain": [
       "array([[3879, 1082],\n",
       "       [ 815, 4224]])"
      ]
     },
     "execution_count": 17,
     "metadata": {},
     "output_type": "execute_result"
    }
   ],
   "source": [
    "cn"
   ]
  },
  {
   "cell_type": "code",
   "execution_count": 18,
   "metadata": {
    "colab": {
     "base_uri": "https://localhost:8080/",
     "height": 589
    },
    "id": "zlIRXxiF-cmJ",
    "outputId": "e5c3eadb-e367-4a92-edef-331841549abc",
    "scrolled": true
   },
   "outputs": [
    {
     "data": {
      "image/png": "[encoded data removed]",
      "text/plain": [
       "<Figure size 800x600 with 2 Axes>"
      ]
     },
     "metadata": {},
     "output_type": "display_data"
    }
   ],
   "source": [
    "from sklearn.metrics import confusion_matrix\n",
    "import matplotlib.pyplot as plt\n",
    "import numpy as np\n",
    "\n",
    "# Compute confusion matrix\n",
    "cn = confusion_matrix(Y_test, y_pred)\n",
    "\n",
    "# Define labels\n",
    "labels = ['Negative', 'Positive']\n",
    "\n",
    "# Plot confusion matrix\n",
    "plt.figure(figsize=(8, 6))\n",
    "plt.imshow(cn, interpolation='nearest', cmap=plt.cm.Blues)\n",
    "plt.title('Confusion Matrix')\n",
    "plt.colorbar()\n",
    "tick_marks = np.arange(len(labels))\n",
    "plt.xticks(tick_marks, labels, rotation=45)\n",
    "plt.yticks(tick_marks, labels)\n",
    "\n",
    "# Display numerical values within the plot\n",
    "thresh = cn.max() / 2.\n",
    "for i, j in itertools.product(range(cn.shape[0]), range(cn.shape[1])):\n",
    "    plt.text(j, i, format(cn[i, j], 'd'),\n",
    "             horizontalalignment=\"center\",\n",
    "             color=\"white\" if cn[i, j] > thresh else \"black\")\n",
    "\n",
    "plt.ylabel('True label')\n",
    "plt.xlabel('Predicted label')\n",
    "plt.tight_layout()\n",
    "plt.show()\n"
   ]
  },
  {
   "cell_type": "code",
   "execution_count": null,
   "metadata": {},
   "outputs": [],
   "source": []
  }
 ],
 "metadata": {
  "accelerator": "GPU",
  "colab": {
   "provenance": []
  },
  "kernelspec": {
   "display_name": "Python 3 (ipykernel)",
   "language": "python",
   "name": "python3"
  },
  "language_info": {
   "codemirror_mode": {
    "name": "ipython",
    "version": 3
   },
   "file_extension": ".py",
   "mimetype": "text/x-python",
   "name": "python",
   "nbconvert_exporter": "python",
   "pygments_lexer": "ipython3",
   "version": "3.10.12"
  }
 },
 "nbformat": 4,
 "nbformat_minor": 4
}
