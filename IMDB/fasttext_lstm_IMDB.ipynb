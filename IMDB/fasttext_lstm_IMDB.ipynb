{
 "cells": [
  {
   "cell_type": "code",
   "execution_count": 1,
   "metadata": {
    "colab": {
     "base_uri": "https://localhost:8080/",
     "height": 88
    },
    "colab_type": "code",
    "executionInfo": {
     "elapsed": 2596,
     "status": "ok",
     "timestamp": 1594298590044,
     "user": {
      "displayName": "Linh Nguyễn Thoại",
      "photoUrl": "https://lh3.googleusercontent.com/a-/AOh14GgdxRQdgx1LcehOK6kuzcQZv3XEbisLIZGl40gz8g=s64",
      "userId": "04932461416660426458"
     },
     "user_tz": -420
    },
    "id": "JRORhiJ4QoWA",
    "outputId": "8dbb9337-076d-4246-f0f0-2a7b4e62b127"
   },
   "outputs": [
    {
     "name": "stderr",
     "output_type": "stream",
     "text": [
      "2024-04-14 23:19:56.920882: I tensorflow/core/platform/cpu_feature_guard.cc:193] This TensorFlow binary is optimized with oneAPI Deep Neural Network Library (oneDNN) to use the following CPU instructions in performance-critical operations:  AVX2 FMA\n",
      "To enable them in other operations, rebuild TensorFlow with the appropriate compiler flags.\n",
      "2024-04-14 23:19:57.182684: E tensorflow/stream_executor/cuda/cuda_blas.cc:2981] Unable to register cuBLAS factory: Attempting to register factory for plugin cuBLAS when one has already been registered\n",
      "2024-04-14 23:19:58.192261: W tensorflow/stream_executor/platform/default/dso_loader.cc:64] Could not load dynamic library 'libnvinfer_plugin.so.7'; dlerror: libnvinfer_plugin.so.7: cannot open shared object file: No such file or directory\n",
      "2024-04-14 23:19:58.192304: W tensorflow/compiler/tf2tensorrt/utils/py_utils.cc:38] TF-TRT Warning: Cannot dlopen some TensorRT libraries. If you would like to use Nvidia GPU with TensorRT, please make sure the missing libraries mentioned above are installed properly.\n"
     ]
    }
   ],
   "source": [
    "import pandas as pd\n",
    "import numpy as np\n",
    "import matplotlib.pyplot as plt\n",
    "import seaborn as sns\n",
    "from sklearn.model_selection import train_test_split\n",
    "from sklearn.preprocessing import LabelEncoder\n",
    "from keras.models import Model\n",
    "from keras.layers import LSTM, Activation, Dense, Dropout, Input, Embedding\n",
    "from keras.optimizers import RMSprop,Adam\n",
    "from keras.preprocessing.text import Tokenizer\n",
    "from keras.preprocessing import sequence\n",
    "from keras.utils import to_categorical\n",
    "from keras.callbacks import EarlyStopping\n",
    "from sklearn.utils import shuffle\n",
    "%matplotlib inline"
   ]
  },
  {
   "cell_type": "code",
   "execution_count": 3,
   "metadata": {},
   "outputs": [],
   "source": [
    "import torch\n"
   ]
  },
  {
   "cell_type": "code",
   "execution_count": 4,
   "metadata": {},
   "outputs": [],
   "source": [
    "torch.cuda.empty_cache()\n"
   ]
  },
  {
   "cell_type": "code",
   "execution_count": 5,
   "metadata": {
    "colab": {
     "base_uri": "https://localhost:8080/",
     "height": 221
    },
    "colab_type": "code",
    "executionInfo": {
     "elapsed": 4363,
     "status": "ok",
     "timestamp": 1594298591834,
     "user": {
      "displayName": "Linh Nguyễn Thoại",
      "photoUrl": "https://lh3.googleusercontent.com/a-/AOh14GgdxRQdgx1LcehOK6kuzcQZv3XEbisLIZGl40gz8g=s64",
      "userId": "04932461416660426458"
     },
     "user_tz": -420
    },
    "id": "1HsOkCtwaEuf",
    "outputId": "fbcb9035-51ab-4f73-a284-de550a7e9b6f",
    "scrolled": true
   },
   "outputs": [
    {
     "name": "stdout",
     "output_type": "stream",
     "text": [
      "   Unnamed: 0                                             review  label\n",
      "0        3774  Having avoided seeing the movie in the cinema,...      0\n",
      "1       48396  With this movie I was really hoping that the i...      0\n",
      "2        1980  Raymond Burr stars as an attorney caught up in...      0\n",
      "3        6703  A lot people get hung up on this films tag as ...      1\n",
      "4       28168  I was a fan of Buffy and hoped it would come t...      0\n",
      "   Unnamed: 0                                             review  label\n",
      "0       33553  I really liked this Summerslam due to the look...      1\n",
      "1        9427  Not many television shows appeal to quite as m...      1\n",
      "2         199  The film quickly gets to a major chase scene w...      0\n",
      "3       12447  Jane Austen would definitely approve of this o...      1\n",
      "4       39489  Expectations were somewhat high for me when I ...      0\n"
     ]
    }
   ],
   "source": [
    "import pandas as pd\n",
    "test = pd.read_csv(\"test.csv\")\n",
    "test = test.dropna()\n",
    "df = pd.read_csv(\"train.csv\")\n",
    "df = df.dropna()\n",
    "print(df.head())\n",
    "print(test.head())"
   ]
  },
  {
   "cell_type": "code",
   "execution_count": 6,
   "metadata": {
    "scrolled": true
   },
   "outputs": [
    {
     "data": {
      "text/plain": [
       "0        0\n",
       "1        0\n",
       "2        0\n",
       "3        1\n",
       "4        0\n",
       "        ..\n",
       "39995    0\n",
       "39996    1\n",
       "39997    0\n",
       "39998    1\n",
       "39999    0\n",
       "Name: label, Length: 40000, dtype: int64"
      ]
     },
     "execution_count": 6,
     "metadata": {},
     "output_type": "execute_result"
    }
   ],
   "source": [
    "df.label"
   ]
  },
  {
   "cell_type": "code",
   "execution_count": 7,
   "metadata": {
    "scrolled": true
   },
   "outputs": [
    {
     "name": "stdout",
     "output_type": "stream",
     "text": [
      "label\n",
      "0    20039\n",
      "1    19961\n",
      "Name: count, dtype: int64\n"
     ]
    }
   ],
   "source": [
    "print(df['label'].value_counts())\n"
   ]
  },
  {
   "cell_type": "code",
   "execution_count": 8,
   "metadata": {
    "scrolled": true
   },
   "outputs": [
    {
     "name": "stdout",
     "output_type": "stream",
     "text": [
      "label\n",
      "0    20039\n",
      "1    19961\n",
      "Name: count, dtype: int64\n"
     ]
    },
    {
     "data": {
      "image/png": "[encoded data removed]",
      "text/plain": [
       "<Figure size 640x480 with 1 Axes>"
      ]
     },
     "metadata": {},
     "output_type": "display_data"
    }
   ],
   "source": [
    "import seaborn as sns\n",
    "import matplotlib.pyplot as plt\n",
    "\n",
    "# Check the value counts of the label column\n",
    "print(df['label'].value_counts())\n",
    "\n",
    "# Plot the countplot\n",
    "sns.countplot(x='label', data=df)\n",
    "plt.xlabel('Label')\n",
    "plt.title('Number of neg and pos messages')\n",
    "plt.show()\n"
   ]
  },
  {
   "cell_type": "code",
   "execution_count": 9,
   "metadata": {
    "colab": {},
    "colab_type": "code",
    "id": "PPFb7__TaFhT"
   },
   "outputs": [],
   "source": [
    "data = df.review.tolist()\n",
    "label = df.label.tolist()\n",
    "data_test = test.review.tolist()\n",
    "label_test = test.label.tolist()\n",
    "data_n = []\n",
    "for i in data:\n",
    "  i = i.replace('_','')\n",
    "  data_n.append(i)\n",
    "test_v = []\n",
    "for i in data_test:\n",
    "  i = i.replace('_','')\n",
    "  test_v.append(i)"
   ]
  },
  {
   "cell_type": "code",
   "execution_count": 10,
   "metadata": {
    "scrolled": true
   },
   "outputs": [
    {
     "name": "stdout",
     "output_type": "stream",
     "text": [
      "Vector for \"từ\": [ 4.2500e-02 -4.6700e-02 -1.4540e-01 -1.6430e-01 -3.1600e-02 -1.3670e-01\n",
      "  2.8500e-02 -8.5700e-02  7.2200e-02  7.1000e-02  5.5200e-02 -6.2300e-02\n",
      " -2.6760e-01  1.0650e-01 -6.1400e-02 -1.3080e-01 -1.4800e-02  7.1900e-02\n",
      "  1.3700e-02 -1.2000e-01  6.3800e-02 -9.5000e-03  1.3990e-01 -8.3000e-02\n",
      "  2.8900e-02 -1.0660e-01  2.7020e-01  7.2600e-02  1.7790e-01 -9.5300e-02\n",
      " -1.5510e-01 -1.6900e-02 -9.1400e-02  1.1340e-01 -3.7200e-02 -9.1000e-03\n",
      " -7.7500e-02 -1.4700e-02  1.2000e-02  1.2900e-01  1.1730e-01  1.2790e-01\n",
      "  1.6810e-01 -3.3000e-03 -2.1200e-02  5.3300e-02 -3.9400e-02 -3.6400e-02\n",
      "  1.2520e-01  2.4300e-02  3.2100e-02  1.8040e-01  2.4940e-01 -1.7950e-01\n",
      "  1.3090e-01  1.5120e-01  7.8000e-03  1.0310e-01 -6.6700e-02 -6.0800e-02\n",
      " -1.3900e-02  1.7340e-01 -1.8000e-03  2.9570e-01  1.2890e-01  1.2950e-01\n",
      " -1.0000e-01 -3.4600e-02 -5.7000e-03 -5.7000e-02 -5.1400e-02 -8.1000e-03\n",
      "  3.4000e-02 -2.7690e-01 -1.1310e-01  4.7190e-01  1.4150e-01  5.9000e-03\n",
      " -1.7500e-02 -5.5700e-02  2.8100e-02 -8.0300e-02  5.8100e-02 -1.4870e-01\n",
      " -4.0200e-02  9.5300e-02  5.1800e-02 -2.8200e-02  4.9400e-02 -1.2000e-02\n",
      "  1.8100e-02  2.6900e-02 -3.1630e-01  8.0900e-02  1.4400e-01 -7.9600e-02\n",
      "  1.0180e-01  6.4400e-02 -9.1400e-02 -2.1790e-01  4.2500e-02 -2.4000e-02\n",
      " -7.1400e-02 -1.2040e-01 -1.9900e-02 -2.1310e-01  9.2900e-02 -3.2000e-01\n",
      "  3.0500e-02 -1.9900e-01 -3.5320e-01  8.1100e-02 -5.8800e-02  4.0600e-02\n",
      " -1.4780e-01  4.3900e-02 -9.9200e-02  5.0000e-04 -1.2520e-01 -2.4320e-01\n",
      "  3.5600e-02 -1.5320e-01 -5.0300e-02  6.4500e-02 -2.3000e-03 -2.2700e-01\n",
      "  1.5850e-01 -9.3600e-02  1.2410e-01  1.0010e-01 -4.3600e-02  1.1720e-01\n",
      " -3.7050e-01 -2.2600e-02  9.3000e-03 -1.2210e-01 -8.2000e-02 -6.2700e-02\n",
      "  1.1650e-01 -9.9100e-02 -1.5600e-02 -1.4300e-01  5.5000e-02 -4.8800e-02\n",
      "  2.6090e-01  9.2000e-02  1.1150e-01  7.8800e-02  3.8700e-02  2.3580e-01\n",
      " -1.5000e-02  2.2800e-02  1.4090e-01 -5.0100e-02 -2.2300e-02  2.6090e-01\n",
      " -1.0850e-01  2.3230e-01 -3.6000e-02 -1.0960e-01 -9.0700e-02  8.5100e-02\n",
      " -2.9200e-02  1.6800e-02 -2.2700e-02  5.5430e-01 -4.0800e-02 -1.3950e-01\n",
      " -1.1180e-01 -7.8100e-02 -1.0800e-01 -3.0000e-02  4.9600e-02 -1.0100e-01\n",
      "  1.1900e-02  7.9400e-02 -4.0000e-03  2.9770e-01  6.3500e-02  3.6300e-02\n",
      "  7.2000e-03 -1.6500e-02  6.0700e-02 -6.2200e-02  1.1271e+00  6.4000e-03\n",
      " -1.2300e-02 -1.0970e-01 -6.6300e-02  1.3100e-02  1.2260e-01  1.1000e-03\n",
      " -6.4000e-03 -7.9400e-02 -4.1400e-02 -1.8110e-01 -8.7100e-02 -4.9000e-03\n",
      "  2.2500e-02 -4.6300e-02  4.9200e-02  5.0000e-03  3.6100e-02 -6.5000e-02\n",
      "  1.5810e-01 -3.8200e-02 -1.0340e-01  3.1300e-02 -1.4840e-01  3.8200e-02\n",
      " -3.5200e-02  4.3500e-02 -2.2900e-01 -2.8300e-02  5.0500e-02 -6.9500e-02\n",
      " -1.1200e-02 -1.8000e-03  1.6900e-02 -1.9150e-01  9.0200e-02 -1.8900e-01\n",
      " -8.6600e-02  5.9000e-02 -1.0710e-01  1.1520e-01 -2.9340e-01 -5.4000e-02\n",
      " -1.5960e-01  1.2910e-01  6.5600e-02 -1.2710e-01 -8.8500e-02 -6.2500e-02\n",
      "  1.0070e-01  6.1100e-02  5.0200e-02  1.7580e-01  2.0900e-02 -4.3800e-02\n",
      " -1.2380e-01  7.7600e-02 -1.2580e-01  1.0580e-01  4.4600e-02  5.3100e-02\n",
      "  9.4700e-02  1.2800e-02 -1.6080e-01 -6.5500e-02 -5.2900e-02 -2.5900e-02\n",
      "  2.8680e-01 -1.6900e-02 -5.0870e-01  5.4100e-02  4.2600e-02 -9.5000e-03\n",
      " -8.1500e-02  1.2000e-01  7.0100e-02 -1.0920e-01 -3.7400e-02  1.0300e-01\n",
      "  2.0540e-01  7.8700e-02 -1.9900e-02 -3.2200e-02  6.5500e-02 -6.0400e-02\n",
      "  7.7600e-02  5.8200e-02 -1.0500e-01  9.4900e-02 -2.9200e-01  1.2260e-01\n",
      "  2.5000e-02 -3.9150e-01 -6.6900e-02 -1.6540e-01  9.1400e-02  1.6160e-01\n",
      " -6.3200e-02  7.4300e-02 -4.0300e-02  1.7600e-02 -1.7290e-01  9.5100e-02\n",
      " -2.1800e-02 -9.8000e-03 -1.9490e-01 -2.3650e-01  1.2400e-01 -9.6700e-02\n",
      "  2.9700e-02 -3.6000e-03 -9.1400e-02  2.3470e-01  2.6000e-02 -1.2720e-01]\n"
     ]
    }
   ],
   "source": [
    "import numpy as np\n",
    "\n",
    "def load_fasttext_vec(file_path):\n",
    "    embeddings_index = {}\n",
    "    with open(file_path, 'r', encoding='utf-8') as file:\n",
    "        # Read the first line, which contains metadata about the file\n",
    "        first_line = file.readline()\n",
    "        \n",
    "        # Read each line of the file\n",
    "        for line in file:\n",
    "            values = line.strip().split()\n",
    "            # The first value is the word\n",
    "            word = values[0]\n",
    "            # The remaining values are the vector\n",
    "            vector = np.asarray(values[1:], dtype='float32')\n",
    "            # Add word and vector to the dictionary\n",
    "            embeddings_index[word] = vector\n",
    "    return embeddings_index\n",
    "\n",
    "# Specify the path to your FastText .vec file\n",
    "fasttext_vec_file_path = 'cc.vi.300.vec'\n",
    "\n",
    "# Load the embeddings from the .vec file\n",
    "embeddings_index = load_fasttext_vec(fasttext_vec_file_path)\n",
    "\n",
    "# Print an example vector for a specific word\n",
    "example_word = 'từ'  # Change to any word you want to check\n",
    "print(f'Vector for \"{example_word}\": {embeddings_index[example_word]}')\n"
   ]
  },
  {
   "cell_type": "code",
   "execution_count": 11,
   "metadata": {},
   "outputs": [],
   "source": [
    "import pickle\n",
    "\n",
    "# Specify the path where you want to save the pickle file\n",
    "pickle_file_path = 'embeddings_index_vi.pickle'  # Change this to your desired path\n",
    "\n",
    "# Save the embeddings dictionary to a pickle file\n",
    "with open(pickle_file_path, 'wb') as pickle_file:\n",
    "    pickle.dump(embeddings_index, pickle_file)\n"
   ]
  },
  {
   "cell_type": "code",
   "execution_count": 12,
   "metadata": {
    "colab": {},
    "colab_type": "code",
    "id": "67yfLo77Q2nc"
   },
   "outputs": [],
   "source": [
    "import pickle\n",
    "with open('embeddings_index_vi.pickle' , 'rb') as pickle_file:\n",
    "    embeddings_index = pickle.load(pickle_file)"
   ]
  },
  {
   "cell_type": "code",
   "execution_count": null,
   "metadata": {
    "colab": {
     "base_uri": "https://localhost:8080/",
     "height": 51
    },
    "colab_type": "code",
    "executionInfo": {
     "elapsed": 15575,
     "status": "ok",
     "timestamp": 1594298603134,
     "user": {
      "displayName": "Linh Nguyễn Thoại",
      "photoUrl": "https://lh3.googleusercontent.com/a-/AOh14GgdxRQdgx1LcehOK6kuzcQZv3XEbisLIZGl40gz8g=s64",
      "userId": "04932461416660426458"
     },
     "user_tz": -420
    },
    "id": "p4Neyu_sQ6gV",
    "outputId": "33a6aa50-634e-43e7-b364-0a32aaaf758a"
   },
   "outputs": [],
   "source": [
    "from tensorflow.keras.preprocessing.text import Tokenizer\n",
    "from tensorflow.keras.preprocessing.sequence import pad_sequences\n",
    "tokenizer  = Tokenizer(num_words = 10000)\n",
    "tokenizer.fit_on_texts(data_n)\n",
    "\n",
    "word_index = tokenizer.word_index\n",
    "print(\"unique words : {}\".format(len(word_index)))\n",
    "\n",
    "sequences =  tokenizer.texts_to_sequences(data_n)\n",
    "# maxlen = max([len(i) for i in data_n])\n",
    "maxlen = 300\n",
    "data = pad_sequences(sequences, maxlen=maxlen)\n",
    "\n",
    "le = LabelEncoder()\n",
    "\n",
    "label = le.fit_transform(label)\n",
    "labels = label.reshape(-1,1)\n",
    "labels_test = le.fit_transform(label_test)\n",
    "labels_test = labels_test.reshape(-1,1)\n",
    "# labels = to_categorical(np.asarray(label))\n",
    "# labels_test = to_categorical(np.asarray(label_test))\n",
    "print('Shape of data tensor:', data.shape)\n",
    "x_train,x_val,y_train,y_val = train_test_split(data,labels,test_size=0.15, random_state=48)"
   ]
  },
  {
   "cell_type": "code",
   "execution_count": null,
   "metadata": {
    "colab": {},
    "colab_type": "code",
    "id": "HEkDRI5QQ8je"
   },
   "outputs": [],
   "source": [
    "def convert_to_sequences(texts):\n",
    "  sequences =  tokenizer.texts_to_sequences(texts)\n",
    "  return pad_sequences(sequences, maxlen=maxlen)"
   ]
  },
  {
   "cell_type": "code",
   "execution_count": null,
   "metadata": {
    "colab": {
     "base_uri": "https://localhost:8080/",
     "height": 51
    },
    "colab_type": "code",
    "executionInfo": {
     "elapsed": 21215,
     "status": "ok",
     "timestamp": 1594105305410,
     "user": {
      "displayName": "Linh Nguyễn Thoại",
      "photoUrl": "https://lh3.googleusercontent.com/a-/AOh14GgdxRQdgx1LcehOK6kuzcQZv3XEbisLIZGl40gz8g=s64",
      "userId": "04932461416660426458"
     },
     "user_tz": -420
    },
    "id": "ILrnjlSDQ-Zw",
    "outputId": "69958c70-e8a8-4700-b01d-5fc6b4a5d7ef"
   },
   "outputs": [],
   "source": [
    "embedding_matrix = np.zeros((len(word_index) + 1, 300))\n",
    "print(300)\n",
    "print(embedding_matrix.shape)\n",
    "for word, i in word_index.items():\n",
    "    embedding_vector = embeddings_index.get(word)\n",
    "    if embedding_vector is not None:\n",
    "        # words not found in embedding index will be all-zeros.\n",
    "        embedding_matrix[i] = embedding_vector"
   ]
  },
  {
   "cell_type": "code",
   "execution_count": null,
   "metadata": {
    "colab": {},
    "colab_type": "code",
    "id": "YH6fBILTRASu"
   },
   "outputs": [],
   "source": [
    "def RNN():\n",
    "    inputs = Input(name='inputs',shape=[maxlen])\n",
    "    layer = Embedding(len(word_index)+1,300,input_length=maxlen)(inputs)\n",
    "    layer = LSTM(units=256)(layer)\n",
    "    layer = Dense(256,activation = 'relu')(layer)\n",
    "    layer = Dense(1,activation='sigmoid')(layer)\n",
    "    model = Model(inputs=inputs,outputs=layer)\n",
    "    return model"
   ]
  },
  {
   "cell_type": "code",
   "execution_count": null,
   "metadata": {
    "colab": {
     "base_uri": "https://localhost:8080/",
     "height": 323
    },
    "colab_type": "code",
    "executionInfo": {
     "elapsed": 22411,
     "status": "ok",
     "timestamp": 1594105306758,
     "user": {
      "displayName": "Linh Nguyễn Thoại",
      "photoUrl": "https://lh3.googleusercontent.com/a-/AOh14GgdxRQdgx1LcehOK6kuzcQZv3XEbisLIZGl40gz8g=s64",
      "userId": "04932461416660426458"
     },
     "user_tz": -420
    },
    "id": "fEn3FYAjRDpM",
    "outputId": "86408cd6-56cd-4ee5-9714-9a5fc805259e",
    "scrolled": true
   },
   "outputs": [],
   "source": [
    "from keras.callbacks import ModelCheckpoint\n",
    "\n",
    "model = RNN()\n",
    "checkpoint = ModelCheckpoint('weights_lstm_NCT_SV_fastext_sentece.hdf5', monitor='val_accuracy', verbose=1, save_best_only=True, mode='auto')\n",
    "model.compile(loss='binary_crossentropy',optimizer=Adam(learning_rate=0.001),metrics=['accuracy'])\n",
    "model.summary()"
   ]
  },
  {
   "cell_type": "code",
   "execution_count": null,
   "metadata": {
    "colab": {
     "base_uri": "https://localhost:8080/",
     "height": 768
    },
    "colab_type": "code",
    "executionInfo": {
     "elapsed": 1840,
     "status": "ok",
     "timestamp": 1594107146814,
     "user": {
      "displayName": "Linh Nguyễn Thoại",
      "photoUrl": "https://lh3.googleusercontent.com/a-/AOh14GgdxRQdgx1LcehOK6kuzcQZv3XEbisLIZGl40gz8g=s64",
      "userId": "04932461416660426458"
     },
     "user_tz": -420
    },
    "id": "sE9LmLSzRIin",
    "outputId": "3a75f6b9-6618-4cdc-d13d-dfd78d5ce948",
    "scrolled": true
   },
   "outputs": [],
   "source": [
    "history = model.fit(x_train,y_train,batch_size=128,epochs=10,verbose=1,\n",
    "          callbacks=[checkpoint], validation_data=[x_val,y_val])"
   ]
  },
  {
   "cell_type": "code",
   "execution_count": null,
   "metadata": {
    "colab": {
     "base_uri": "https://localhost:8080/",
     "height": 295
    },
    "colab_type": "code",
    "executionInfo": {
     "elapsed": 312,
     "status": "ok",
     "timestamp": 1594107146819,
     "user": {
      "displayName": "Linh Nguyễn Thoại",
      "photoUrl": "https://lh3.googleusercontent.com/a-/AOh14GgdxRQdgx1LcehOK6kuzcQZv3XEbisLIZGl40gz8g=s64",
      "userId": "04932461416660426458"
     },
     "user_tz": -420
    },
    "id": "u8UlKLsCRN1l",
    "outputId": "c28300cc-132a-4521-bb5c-dc327442b16d",
    "scrolled": true
   },
   "outputs": [],
   "source": [
    "plt.plot(history.history['accuracy'])\n",
    "plt.plot(history.history['val_accuracy'])\n",
    "plt.title('model accuracy')\n",
    "plt.ylabel('accuracy')\n",
    "plt.xlabel('epoch')\n",
    "plt.legend(['train', 'val'], loc='upper left')\n",
    "plt.show()"
   ]
  },
  {
   "cell_type": "code",
   "execution_count": null,
   "metadata": {
    "colab": {
     "base_uri": "https://localhost:8080/",
     "height": 295
    },
    "colab_type": "code",
    "executionInfo": {
     "elapsed": 289,
     "status": "ok",
     "timestamp": 1594107146822,
     "user": {
      "displayName": "Linh Nguyễn Thoại",
      "photoUrl": "https://lh3.googleusercontent.com/a-/AOh14GgdxRQdgx1LcehOK6kuzcQZv3XEbisLIZGl40gz8g=s64",
      "userId": "04932461416660426458"
     },
     "user_tz": -420
    },
    "id": "ClzeahHdRPeG",
    "outputId": "3d8200ac-169a-4189-8ca1-3ff4d67c8767",
    "scrolled": true
   },
   "outputs": [],
   "source": [
    "plt.plot(history.history['loss'])\n",
    "plt.plot(history.history['val_loss'])\n",
    "plt.title('model loss')\n",
    "plt.ylabel('loss')\n",
    "plt.xlabel('epoch')\n",
    "plt.legend(['train', 'val'], loc='upper left')\n",
    "plt.show()"
   ]
  },
  {
   "cell_type": "code",
   "execution_count": null,
   "metadata": {
    "colab": {
     "base_uri": "https://localhost:8080/",
     "height": 71
    },
    "colab_type": "code",
    "executionInfo": {
     "elapsed": 3034,
     "status": "ok",
     "timestamp": 1594298606194,
     "user": {
      "displayName": "Linh Nguyễn Thoại",
      "photoUrl": "https://lh3.googleusercontent.com/a-/AOh14GgdxRQdgx1LcehOK6kuzcQZv3XEbisLIZGl40gz8g=s64",
      "userId": "04932461416660426458"
     },
     "user_tz": -420
    },
    "id": "vRLDEL9URQ_U",
    "outputId": "42f107a6-cd59-4211-d664-4e590ccca06c"
   },
   "outputs": [],
   "source": [
    "from keras.models import load_model\n",
    "#model = load_model('C:/Users/hari shivani gudi/Downloads/Test/weights_lstm_NCT_SV_fastext_sentece.hdf5')"
   ]
  },
  {
   "cell_type": "code",
   "execution_count": null,
   "metadata": {
    "colab": {
     "base_uri": "https://localhost:8080/",
     "height": 68
    },
    "colab_type": "code",
    "executionInfo": {
     "elapsed": 21559,
     "status": "ok",
     "timestamp": 1594298624755,
     "user": {
      "displayName": "Linh Nguyễn Thoại",
      "photoUrl": "https://lh3.googleusercontent.com/a-/AOh14GgdxRQdgx1LcehOK6kuzcQZv3XEbisLIZGl40gz8g=s64",
      "userId": "04932461416660426458"
     },
     "user_tz": -420
    },
    "id": "3_wet5AbRTn1",
    "outputId": "6af14031-3754-4790-93ab-93c45e234ed0"
   },
   "outputs": [],
   "source": [
    "from sklearn import metrics\n",
    "acc = model.predict(convert_to_sequences(test_v))\n",
    "accr = np.round(acc)\n",
    "print(metrics.f1_score(labels_test, accr))\n",
    "print(metrics.precision_score(labels_test, accr))\n",
    "print(metrics.recall_score(labels_test, accr))"
   ]
  },
  {
   "cell_type": "code",
   "execution_count": null,
   "metadata": {
    "colab": {},
    "colab_type": "code",
    "id": "rRpDtGFMKCUX"
   },
   "outputs": [],
   "source": [
    "accuracy = metrics.accuracy_score(labels_test, accr)\n",
    "\n",
    "print(\"Accuracy:\", accuracy)"
   ]
  },
  {
   "cell_type": "code",
   "execution_count": null,
   "metadata": {},
   "outputs": [],
   "source": []
  }
 ],
 "metadata": {
  "accelerator": "GPU",
  "colab": {
   "collapsed_sections": [],
   "machine_shape": "hm",
   "name": "fasttext_lstm.ipynb",
   "provenance": []
  },
  "kernelspec": {
   "display_name": "Python 3 (ipykernel)",
   "language": "python",
   "name": "python3"
  },
  "language_info": {
   "codemirror_mode": {
    "name": "ipython",
    "version": 3
   },
   "file_extension": ".py",
   "mimetype": "text/x-python",
   "name": "python",
   "nbconvert_exporter": "python",
   "pygments_lexer": "ipython3",
   "version": "3.10.12"
  }
 },
 "nbformat": 4,
 "nbformat_minor": 4
}
