{
 "cells": [
  {
   "cell_type": "code",
   "execution_count": 1,
   "id": "8a96e361-df6d-4ca1-b89e-91abe9ccc29e",
   "metadata": {
    "scrolled": true
   },
   "outputs": [
    {
     "name": "stdout",
     "output_type": "stream",
     "text": [
      "Fri Apr  5 13:05:58 2024       \n",
      "+---------------------------------------------------------------------------------------+\n",
      "| NVIDIA-SMI 535.86.10              Driver Version: 535.86.10    CUDA Version: 12.2     |\n",
      "|-----------------------------------------+----------------------+----------------------+\n",
      "| GPU  Name                 Persistence-M | Bus-Id        Disp.A | Volatile Uncorr. ECC |\n",
      "| Fan  Temp   Perf          Pwr:Usage/Cap |         Memory-Usage | GPU-Util  Compute M. |\n",
      "|                                         |                      |               MIG M. |\n",
      "|=========================================+======================+======================|\n",
      "|   0  NVIDIA GeForce GTX 1080        On  | 00000000:04:00.0 Off |                  N/A |\n",
      "|  0%   28C    P8               6W / 180W |    224MiB /  8192MiB |      0%      Default |\n",
      "|                                         |                      |                  N/A |\n",
      "+-----------------------------------------+----------------------+----------------------+\n",
      "|   1  NVIDIA GeForce GTX 1080        On  | 00000000:05:00.0 Off |                  N/A |\n",
      "|  0%   29C    P8               6W / 180W |    224MiB /  8192MiB |      0%      Default |\n",
      "|                                         |                      |                  N/A |\n",
      "+-----------------------------------------+----------------------+----------------------+\n",
      "|   2  NVIDIA GeForce RTX 2080 Ti     On  | 00000000:08:00.0 Off |                  N/A |\n",
      "|  0%   38C    P2              61W / 250W |   9997MiB / 11264MiB |      0%      Default |\n",
      "|                                         |                      |                  N/A |\n",
      "+-----------------------------------------+----------------------+----------------------+\n",
      "|   3  NVIDIA GeForce RTX 2080 Ti     On  | 00000000:09:00.0 Off |                  N/A |\n",
      "|  0%   27C    P8               1W / 250W |    315MiB / 11264MiB |      0%      Default |\n",
      "|                                         |                      |                  N/A |\n",
      "+-----------------------------------------+----------------------+----------------------+\n",
      "|   4  NVIDIA GeForce GTX 1080        On  | 00000000:83:00.0 Off |                  N/A |\n",
      "|  0%   28C    P8               7W / 180W |    224MiB /  8192MiB |      0%      Default |\n",
      "|                                         |                      |                  N/A |\n",
      "+-----------------------------------------+----------------------+----------------------+\n",
      "|   5  NVIDIA GeForce GTX 1080        On  | 00000000:84:00.0 Off |                  N/A |\n",
      "|  0%   28C    P8               6W / 180W |    224MiB /  8192MiB |      0%      Default |\n",
      "|                                         |                      |                  N/A |\n",
      "+-----------------------------------------+----------------------+----------------------+\n",
      "|   6  NVIDIA GeForce RTX 2080 Ti     On  | 00000000:87:00.0 Off |                  N/A |\n",
      "|  0%   27C    P8              17W / 250W |    315MiB / 11264MiB |      0%      Default |\n",
      "|                                         |                      |                  N/A |\n",
      "+-----------------------------------------+----------------------+----------------------+\n",
      "                                                                                         \n",
      "+---------------------------------------------------------------------------------------+\n",
      "| Processes:                                                                            |\n",
      "|  GPU   GI   CI        PID   Type   Process name                            GPU Memory |\n",
      "|        ID   ID                                                             Usage      |\n",
      "|=======================================================================================|\n",
      "|    0   N/A  N/A   1856934      C   /usr/bin/python3                            220MiB |\n",
      "|    1   N/A  N/A   1856934      C   /usr/bin/python3                            220MiB |\n",
      "|    2   N/A  N/A   1856934      C   /usr/bin/python3                           9994MiB |\n",
      "|    3   N/A  N/A   1856934      C   /usr/bin/python3                            312MiB |\n",
      "|    4   N/A  N/A   1856934      C   /usr/bin/python3                            220MiB |\n",
      "|    5   N/A  N/A   1856934      C   /usr/bin/python3                            220MiB |\n",
      "|    6   N/A  N/A   1856934      C   /usr/bin/python3                            312MiB |\n",
      "+---------------------------------------------------------------------------------------+\n"
     ]
    }
   ],
   "source": [
    "!nvidia-smi"
   ]
  },
  {
   "cell_type": "code",
   "execution_count": null,
   "id": "4d6348de-5a44-4d44-8979-a5ab3178ff08",
   "metadata": {},
   "outputs": [],
   "source": [
    "#Ran only on 500 rows"
   ]
  },
  {
   "cell_type": "code",
   "execution_count": 2,
   "id": "ff67deb7-8a2c-417d-aabc-ddd1e7b20782",
   "metadata": {},
   "outputs": [],
   "source": [
    "import os\n",
    "\n",
    "# Set the CUDA_VISIBLE_DEVICES environment variable to the index of the GPU you want to use\n",
    "os.environ[\"CUDA_VISIBLE_DEVICES\"] = \"4\"  # Set to the index of the GPU you want to use, e.g., \"0\" for the first GPU\n",
    "\n",
    "# Now, when you run your code, it will only see the GPU with the specified index\n"
   ]
  },
  {
   "cell_type": "code",
   "execution_count": 3,
   "id": "19294671-2af7-4557-b95f-b265d2d56cd5",
   "metadata": {},
   "outputs": [
    {
     "name": "stderr",
     "output_type": "stream",
     "text": [
      "/home/hygumm/.local/lib/python3.10/site-packages/tqdm/auto.py:21: TqdmWarning: IProgress not found. Please update jupyter and ipywidgets. See https://ipywidgets.readthedocs.io/en/stable/user_install.html\n",
      "  from .autonotebook import tqdm as notebook_tqdm\n"
     ]
    }
   ],
   "source": [
    "from transformers import BertTokenizer, BertModel\n",
    "import torch\n",
    "import pandas as pd\n",
    "from sklearn.model_selection import train_test_split\n",
    "from transformers import BertTokenizer\n",
    "from torch.utils.data import Dataset, DataLoader\n",
    "import torch\n",
    "from transformers import BertModel\n",
    "import torch.nn as nn\n",
    "from torch.optim import Adam\n",
    "from sklearn.metrics import accuracy_score\n",
    "import numpy as np\n",
    "from sklearn.metrics import confusion_matrix\n",
    "import seaborn as sns\n",
    "import matplotlib.pyplot as plt"
   ]
  },
  {
   "cell_type": "code",
   "execution_count": 4,
   "id": "1c7932c1-6e0e-4ec8-8c5a-20c0daf2e8b6",
   "metadata": {},
   "outputs": [],
   "source": [
    "torch.cuda.empty_cache()"
   ]
  },
  {
   "cell_type": "code",
   "execution_count": 5,
   "id": "8024909e-f5c5-4e83-8b53-10f001d80507",
   "metadata": {},
   "outputs": [],
   "source": [
    "tokenizer = BertTokenizer.from_pretrained('bert-base-multilingual-cased')\n",
    "model = BertModel.from_pretrained(\"bert-base-multilingual-cased\")"
   ]
  },
  {
   "cell_type": "code",
   "execution_count": 6,
   "id": "053a6e62-a5a8-4da0-aa2e-f1ec6728d407",
   "metadata": {},
   "outputs": [],
   "source": [
    "df1 = pd.read_csv(\"/home/hygumm/NLP_Project/NTC_SV_train.csv\")\n",
    "df2 = pd.read_csv(\"/home/hygumm/NLP_Project/NTC_SV_test.csv\")\n",
    "df= pd.concat([df1,df2])"
   ]
  },
  {
   "cell_type": "code",
   "execution_count": 7,
   "id": "b7578527-cdac-4e73-81a4-671e77db27fd",
   "metadata": {},
   "outputs": [
    {
     "data": {
      "text/html": [
       "<div>\n",
       "<style scoped>\n",
       "    .dataframe tbody tr th:only-of-type {\n",
       "        vertical-align: middle;\n",
       "    }\n",
       "\n",
       "    .dataframe tbody tr th {\n",
       "        vertical-align: top;\n",
       "    }\n",
       "\n",
       "    .dataframe thead th {\n",
       "        text-align: right;\n",
       "    }\n",
       "</style>\n",
       "<table border=\"1\" class=\"dataframe\">\n",
       "  <thead>\n",
       "    <tr style=\"text-align: right;\">\n",
       "      <th></th>\n",
       "      <th>Unnamed: 0</th>\n",
       "      <th>review</th>\n",
       "      <th>label</th>\n",
       "    </tr>\n",
       "  </thead>\n",
       "  <tbody>\n",
       "    <tr>\n",
       "      <th>0</th>\n",
       "      <td>0</td>\n",
       "      <td>đồ_ăn ngon positive hợp_khẩu vị nhiều món nhân...</td>\n",
       "      <td>0</td>\n",
       "    </tr>\n",
       "    <tr>\n",
       "      <th>1</th>\n",
       "      <td>1</td>\n",
       "      <td>chè bơ thơm positive có vị ngậy ngậy nhưng lại...</td>\n",
       "      <td>0</td>\n",
       "    </tr>\n",
       "    <tr>\n",
       "      <th>2</th>\n",
       "      <td>2</td>\n",
       "      <td>chiều hôm nay mới đi ăn về nghe thiên_hạ đồn q...</td>\n",
       "      <td>0</td>\n",
       "    </tr>\n",
       "    <tr>\n",
       "      <th>3</th>\n",
       "      <td>3</td>\n",
       "      <td>mình đặt_hàng qua tin nhắn với cửa_hàng hứa sá...</td>\n",
       "      <td>0</td>\n",
       "    </tr>\n",
       "    <tr>\n",
       "      <th>4</th>\n",
       "      <td>4</td>\n",
       "      <td>ghé mấy lần rồi mà không review đi đâu cũng ch...</td>\n",
       "      <td>1</td>\n",
       "    </tr>\n",
       "    <tr>\n",
       "      <th>...</th>\n",
       "      <td>...</td>\n",
       "      <td>...</td>\n",
       "      <td>...</td>\n",
       "    </tr>\n",
       "    <tr>\n",
       "      <th>9995</th>\n",
       "      <td>9995</td>\n",
       "      <td>hình_như là món mới của quán mới nhào vô uống ...</td>\n",
       "      <td>1</td>\n",
       "    </tr>\n",
       "    <tr>\n",
       "      <th>9996</th>\n",
       "      <td>9996</td>\n",
       "      <td>mình tới ngay ngày đầu_tiên khai_trương và nói...</td>\n",
       "      <td>0</td>\n",
       "    </tr>\n",
       "    <tr>\n",
       "      <th>9997</th>\n",
       "      <td>9997</td>\n",
       "      <td>hôm bữa đã đọc các comment quán này và thấy ho...</td>\n",
       "      <td>0</td>\n",
       "    </tr>\n",
       "    <tr>\n",
       "      <th>9998</th>\n",
       "      <td>9998</td>\n",
       "      <td>cả gia_đình du lich ra đà nẽng kem tuyết ngon ...</td>\n",
       "      <td>1</td>\n",
       "    </tr>\n",
       "    <tr>\n",
       "      <th>9999</th>\n",
       "      <td>9999</td>\n",
       "      <td>quán có món bông lan trứng muối ngon positive ...</td>\n",
       "      <td>0</td>\n",
       "    </tr>\n",
       "  </tbody>\n",
       "</table>\n",
       "<p>50761 rows × 3 columns</p>\n",
       "</div>"
      ],
      "text/plain": [
       "      Unnamed: 0                                             review  label\n",
       "0              0  đồ_ăn ngon positive hợp_khẩu vị nhiều món nhân...      0\n",
       "1              1  chè bơ thơm positive có vị ngậy ngậy nhưng lại...      0\n",
       "2              2  chiều hôm nay mới đi ăn về nghe thiên_hạ đồn q...      0\n",
       "3              3  mình đặt_hàng qua tin nhắn với cửa_hàng hứa sá...      0\n",
       "4              4  ghé mấy lần rồi mà không review đi đâu cũng ch...      1\n",
       "...          ...                                                ...    ...\n",
       "9995        9995  hình_như là món mới của quán mới nhào vô uống ...      1\n",
       "9996        9996  mình tới ngay ngày đầu_tiên khai_trương và nói...      0\n",
       "9997        9997  hôm bữa đã đọc các comment quán này và thấy ho...      0\n",
       "9998        9998  cả gia_đình du lich ra đà nẽng kem tuyết ngon ...      1\n",
       "9999        9999  quán có món bông lan trứng muối ngon positive ...      0\n",
       "\n",
       "[50761 rows x 3 columns]"
      ]
     },
     "execution_count": 7,
     "metadata": {},
     "output_type": "execute_result"
    }
   ],
   "source": [
    "df"
   ]
  },
  {
   "cell_type": "code",
   "execution_count": 8,
   "id": "dcb1c2b3-de12-4130-9286-546002d76ab7",
   "metadata": {
    "scrolled": true
   },
   "outputs": [],
   "source": [
    "\n",
    "\n",
    "# Assuming the dataset is loaded from a CSV file\n",
    "#df = pd.read_csv(\"/home/hygumm/NLP_Project/NTC_SV_train.csv\")\n",
    "df.drop('Unnamed: 0', inplace= True, axis=1)\n",
    "df.rename(columns = {'review':'text'}, inplace = True) \n",
    "df = df.dropna()"
   ]
  },
  {
   "cell_type": "code",
   "execution_count": 9,
   "id": "21e56c70-5d5a-4be3-97aa-5d84fcdc94b3",
   "metadata": {},
   "outputs": [
    {
     "name": "stdout",
     "output_type": "stream",
     "text": [
      "Number of rows in DataFrame: 50760\n"
     ]
    }
   ],
   "source": [
    "print(\"Number of rows in DataFrame:\", len(df))"
   ]
  },
  {
   "cell_type": "code",
   "execution_count": null,
   "id": "769be5fe-76b9-4788-bbeb-09c505b51282",
   "metadata": {},
   "outputs": [],
   "source": [
    "# df = df.sample(n=10000, replace=False)"
   ]
  },
  {
   "cell_type": "code",
   "execution_count": 10,
   "id": "8f898fbe-3af1-4532-823c-d9758f66da9e",
   "metadata": {},
   "outputs": [],
   "source": [
    "\n",
    "\n",
    "# Split the dataset into training and testing sets\n",
    "train_df, test_df = train_test_split(df, test_size=0.2, random_state=42)\n",
    "train_df = train_df.reset_index(drop=True)\n",
    "test_df = test_df.reset_index(drop=True)\n",
    "\n",
    "\n",
    "# Initialize the BERT tokenizer\n",
    "tokenizer = BertTokenizer.from_pretrained('bert-base-multilingual-cased')\n",
    "\n",
    "class IMDbDataset(Dataset):\n",
    "    def __init__(self, dataframe, tokenizer, max_len=256):\n",
    "        self.tokenizer = tokenizer\n",
    "        self.data = dataframe\n",
    "        self.text = dataframe.text\n",
    "        self.targets = dataframe.label\n",
    "        self.max_len = max_len\n",
    "\n",
    "    def __len__(self):\n",
    "        return len(self.text)\n",
    "\n",
    "    def __getitem__(self, index):\n",
    "        text = str(self.text[index])\n",
    "        text = \" \".join(text.split())\n",
    "\n",
    "        inputs = self.tokenizer.encode_plus(\n",
    "            text,\n",
    "            None,\n",
    "            add_special_tokens=True,\n",
    "            max_length=self.max_len,\n",
    "            padding='max_length',\n",
    "            return_token_type_ids=True,\n",
    "            truncation=True,\n",
    "            return_attention_mask=True,\n",
    "            return_tensors='pt'\n",
    "        )\n",
    "\n",
    "        return {\n",
    "            'ids': inputs['input_ids'].flatten(),\n",
    "            'mask': inputs['attention_mask'].flatten(),\n",
    "            'targets': torch.tensor(self.targets[index], dtype=torch.long)\n",
    "        }\n",
    "\n",
    "# Create training and validation datasets\n",
    "train_dataset = IMDbDataset(train_df, tokenizer)\n",
    "test_dataset = IMDbDataset(test_df, tokenizer)\n",
    "\n",
    "# DataLoader parameters\n",
    "train_params = {'batch_size': 8, 'shuffle': True, 'num_workers': 0}\n",
    "test_params = {'batch_size': 8, 'shuffle': False, 'num_workers': 0}\n",
    "\n",
    "# Loaders\n",
    "training_loader = DataLoader(train_dataset, **train_params)\n",
    "testing_loader = DataLoader(test_dataset, **test_params)\n"
   ]
  },
  {
   "cell_type": "code",
   "execution_count": 11,
   "id": "4812d624-1d88-4e55-a6e0-a0cef6abb0e0",
   "metadata": {},
   "outputs": [],
   "source": [
    "\n",
    "\n",
    "class BERTLSTM(nn.Module):\n",
    "    def __init__(self):\n",
    "        super(BERTLSTM, self).__init__()\n",
    "        self.bert = BertModel.from_pretrained(\"bert-base-multilingual-cased\")\n",
    "        self.lstm = nn.LSTM(768, 256, batch_first=True, bidirectional=True)\n",
    "        self.linear = nn.Linear(256*2, 1)\n",
    "\n",
    "    def forward(self, input_ids, attention_mask):\n",
    "        with torch.no_grad():\n",
    "            _, pooled_output = self.bert(input_ids=input_ids, attention_mask=attention_mask, return_dict=False)\n",
    "\n",
    "        lstm_output, (hidden_state, _) = self.lstm(pooled_output.unsqueeze(1))\n",
    "        hidden_state = torch.cat((hidden_state[-2,:,:], hidden_state[-1,:,:]), dim=1)\n",
    "        linear_output = self.linear(hidden_state)\n",
    "        return torch.sigmoid(linear_output)"
   ]
  },
  {
   "cell_type": "code",
   "execution_count": null,
   "id": "837bb490-532c-4704-a0d0-ff91043a8407",
   "metadata": {},
   "outputs": [],
   "source": [
    "# Quick test to see if DataLoader works correctly\n",
    "for i, data in enumerate(training_loader):\n",
    "    print(f\"Batch {i}: {data['ids'].size()}\")\n",
    "    if i == 10:  # Just check the first 10 batches\n",
    "        break\n"
   ]
  },
  {
   "cell_type": "code",
   "execution_count": 12,
   "id": "06993662-cd10-4a0b-864e-ba6899176619",
   "metadata": {
    "scrolled": true
   },
   "outputs": [
    {
     "name": "stdout",
     "output_type": "stream",
     "text": [
      "Epoch: 0, Loss:  0.6927642226219177\n",
      "Epoch: 0, Loss:  0.6717967987060547\n",
      "Epoch: 1, Loss:  0.623293936252594\n",
      "Epoch: 1, Loss:  0.6068457365036011\n",
      "Epoch: 2, Loss:  0.5489798784255981\n",
      "Epoch: 2, Loss:  0.5291847586631775\n"
     ]
    }
   ],
   "source": [
    "\n",
    "device = torch.device(\"cuda\" if torch.cuda.is_available() else \"cpu\")\n",
    "\n",
    "model = BERTLSTM().to(device)\n",
    "optimizer = Adam(model.parameters(), lr=1e-5)\n",
    "\n",
    "def train(epoch):\n",
    "    model.train()\n",
    "    for _,data in enumerate(training_loader, 0):\n",
    "        ids = data['ids'].to(device, dtype = torch.long)\n",
    "        mask = data['mask'].to(device, dtype = torch.long)\n",
    "        targets = data['targets'].to(device, dtype = torch.float)\n",
    "\n",
    "        outputs = model(ids, mask).squeeze()\n",
    "        optimizer.zero_grad()\n",
    "        loss = nn.BCELoss()(outputs, targets)\n",
    "        if _%5000==0:\n",
    "            print(f'Epoch: {epoch}, Loss:  {loss.item()}')\n",
    "        \n",
    "        loss.backward()\n",
    "        optimizer.step()\n",
    "\n",
    "for epoch in range(3):  # Example for 3 epochs\n",
    "    train(epoch)\n"
   ]
  },
  {
   "cell_type": "code",
   "execution_count": 13,
   "id": "c6c890f6-a1b7-4a95-9db0-34a1c317cf08",
   "metadata": {},
   "outputs": [
    {
     "name": "stdout",
     "output_type": "stream",
     "text": [
      "Test Accuracy: 0.7564026792750197\n"
     ]
    }
   ],
   "source": [
    " def evaluate():\n",
    "    model.eval()\n",
    "    fin_targets=[]\n",
    "    fin_outputs=[]\n",
    "    with torch.no_grad():\n",
    "        for _, data in enumerate(testing_loader, 0):\n",
    "            ids = data['ids'].to(device, dtype = torch.long)\n",
    "            mask = data['mask'].to(device, dtype = torch.long)\n",
    "            targets = data['targets'].to(device, dtype = torch.float)\n",
    "            outputs = model(ids, mask).squeeze()\n",
    "            fin_targets.extend(targets.cpu().detach().numpy().tolist())\n",
    "            fin_outputs.extend(torch.round(outputs).cpu().detach().numpy().tolist())\n",
    "    return accuracy_score(fin_targets, fin_outputs)\n",
    "\n",
    "print(f'Test Accuracy: {evaluate()}')"
   ]
  },
  {
   "cell_type": "code",
   "execution_count": 14,
   "id": "d4c5d5f9-1ac1-4a23-bb76-1741c2872325",
   "metadata": {},
   "outputs": [
    {
     "data": {
      "image/png": "[encoded data removed]",
      "text/plain": [
       "<Figure size 640x480 with 2 Axes>"
      ]
     },
     "metadata": {},
     "output_type": "display_data"
    }
   ],
   "source": [
    "def get_predictions(loader):\n",
    "    model.eval()\n",
    "    predictions = []\n",
    "    true_labels = []\n",
    "    with torch.no_grad():\n",
    "        for data in loader:\n",
    "            ids = data['ids'].to(device, dtype=torch.long)\n",
    "            mask = data['mask'].to(device, dtype=torch.long)\n",
    "            targets = data['targets'].to(device, dtype=torch.float)\n",
    "            outputs = model(ids, mask).squeeze()\n",
    "            predictions.extend(torch.round(outputs).cpu().detach().numpy().tolist())\n",
    "            true_labels.extend(targets.cpu().detach().numpy().tolist())\n",
    "    return predictions, true_labels\n",
    "\n",
    "# Get predictions and true labels\n",
    "predictions, true_labels = get_predictions(testing_loader)\n",
    "\n",
    "# Generate the confusion matrix\n",
    "cm = confusion_matrix(true_labels, predictions)\n",
    "sns.heatmap(cm, annot=True, fmt='d')\n",
    "plt.xlabel('Predicted Labels')\n",
    "plt.ylabel('True Labels')\n",
    "plt.title('Confusion Matrix')\n",
    "plt.show()\n"
   ]
  },
  {
   "cell_type": "code",
   "execution_count": 15,
   "id": "2f1ed1f6-0a06-44c7-a25b-65b7f09c2db4",
   "metadata": {},
   "outputs": [
    {
     "name": "stdout",
     "output_type": "stream",
     "text": [
      "True Positives (TP): 3978\n",
      "False Positives (FP): 1355\n",
      "True Negatives (TN): 3701\n",
      "False Negatives (FN): 1118\n"
     ]
    }
   ],
   "source": [
    "# Calculate TP, FP, TN, FN\n",
    "TP = cm[1][1]\n",
    "FP = cm[0][1]\n",
    "TN = cm[0][0]\n",
    "FN = cm[1][0]\n",
    "\n",
    "print(\"True Positives (TP):\", TP)\n",
    "print(\"False Positives (FP):\", FP)\n",
    "print(\"True Negatives (TN):\", TN)\n",
    "print(\"False Negatives (FN):\", FN)"
   ]
  },
  {
   "cell_type": "code",
   "execution_count": 17,
   "id": "4b3840c2-bbbe-483f-8c2c-a7418b06bafb",
   "metadata": {},
   "outputs": [
    {
     "name": "stdout",
     "output_type": "stream",
     "text": [
      "Predicted Sentiment: Positive\n"
     ]
    }
   ],
   "source": [
    "# Define a function for prediction\n",
    "def predict_sentiment(sentence):\n",
    "    # Tokenize the input sentence\n",
    "    tokenized_input = tokenizer.encode_plus(\n",
    "        sentence,\n",
    "        None,\n",
    "        add_special_tokens=True,\n",
    "        max_length=256,\n",
    "        padding='max_length',\n",
    "        return_token_type_ids=True,\n",
    "        truncation=True,\n",
    "        return_attention_mask=True,\n",
    "        return_tensors='pt'\n",
    "    )\n",
    "\n",
    "    # Get input IDs and attention mask\n",
    "    input_ids = tokenized_input['input_ids'].to(device)\n",
    "    attention_mask = tokenized_input['attention_mask'].to(device)\n",
    "\n",
    "    # Pass the input through the model to get predictions\n",
    "    outputs = model(input_ids, attention_mask).squeeze()\n",
    "\n",
    "    # Convert predictions to labels\n",
    "    predicted_label = \"Positive\" if torch.round(outputs).item() == 1 else \"Negative\"\n",
    "    return predicted_label\n",
    "\n",
    "# Example usage\n",
    "example_sentence = \"đồ ăn ở đây rất ngon\"\n",
    "prediction = predict_sentiment(example_sentence)\n",
    "print(\"Predicted Sentiment:\", prediction)\n"
   ]
  },
  {
   "cell_type": "code",
   "execution_count": 22,
   "id": "54414d1d-79de-419e-937a-53fe447b5ce9",
   "metadata": {},
   "outputs": [
    {
     "name": "stdout",
     "output_type": "stream",
     "text": [
      "Predicted Sentiment: Positive\n"
     ]
    }
   ],
   "source": [
    "example_sentence=''' yêu thích bộ phim hay nhất và dễ thương nhất thời gian gần đây'''\n",
    "\n",
    "prediction = predict_sentiment(example_sentence)\n",
    "print(\"Predicted Sentiment:\", prediction)\n"
   ]
  },
  {
   "cell_type": "code",
   "execution_count": null,
   "id": "0d63ec5d-12ca-48be-b2bf-4d0d2028a675",
   "metadata": {},
   "outputs": [],
   "source": []
  }
 ],
 "metadata": {
  "kernelspec": {
   "display_name": "Python 3 (ipykernel)",
   "language": "python",
   "name": "python3"
  },
  "language_info": {
   "codemirror_mode": {
    "name": "ipython",
    "version": 3
   },
   "file_extension": ".py",
   "mimetype": "text/x-python",
   "name": "python",
   "nbconvert_exporter": "python",
   "pygments_lexer": "ipython3",
   "version": "3.10.12"
  }
 },
 "nbformat": 4,
 "nbformat_minor": 5
}
