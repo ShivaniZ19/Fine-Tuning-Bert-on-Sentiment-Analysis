{
 "cells": [
  {
   "cell_type": "code",
   "execution_count": null,
   "metadata": {
    "colab": {
     "base_uri": "https://localhost:8080/"
    },
    "id": "2-Z15bFfZ3DO",
    "outputId": "336afaac-54b1-4efe-b55f-9ba16af1d694"
   },
   "outputs": [],
   "source": [
    "# from google.colab import drive\n",
    "# drive.mount(\"/content/drive\")"
   ]
  },
  {
   "cell_type": "code",
   "execution_count": null,
   "metadata": {
    "id": "e9ARMMPuaDHf"
   },
   "outputs": [],
   "source": [
    "# path = \"/content/drive/MyDrive/Sentiment-Analysis-using-BERT-master/Sentiment-Analysis-using-BERT-master/Data/NTC_SV/\""
   ]
  },
  {
   "cell_type": "code",
   "execution_count": 1,
   "metadata": {
    "id": "3VtNT7j3O2Ix",
    "scrolled": true
   },
   "outputs": [
    {
     "name": "stderr",
     "output_type": "stream",
     "text": [
      "2024-04-15 01:24:05.219242: I tensorflow/core/platform/cpu_feature_guard.cc:193] This TensorFlow binary is optimized with oneAPI Deep Neural Network Library (oneDNN) to use the following CPU instructions in performance-critical operations:  AVX2 FMA\n",
      "To enable them in other operations, rebuild TensorFlow with the appropriate compiler flags.\n",
      "2024-04-15 01:24:05.460555: E tensorflow/stream_executor/cuda/cuda_blas.cc:2981] Unable to register cuBLAS factory: Attempting to register factory for plugin cuBLAS when one has already been registered\n",
      "2024-04-15 01:24:06.470594: W tensorflow/stream_executor/platform/default/dso_loader.cc:64] Could not load dynamic library 'libnvinfer_plugin.so.7'; dlerror: libnvinfer_plugin.so.7: cannot open shared object file: No such file or directory\n",
      "2024-04-15 01:24:06.470634: W tensorflow/compiler/tf2tensorrt/utils/py_utils.cc:38] TF-TRT Warning: Cannot dlopen some TensorRT libraries. If you would like to use Nvidia GPU with TensorRT, please make sure the missing libraries mentioned above are installed properly.\n"
     ]
    }
   ],
   "source": [
    "import pandas as pd\n",
    "import numpy as np\n",
    "import matplotlib.pyplot as plt\n",
    "import seaborn as sns\n",
    "from sklearn.model_selection import train_test_split\n",
    "from sklearn.preprocessing import LabelEncoder\n",
    "from keras.models import Model\n",
    "from keras.layers import LSTM, Activation, Dense, Dropout, Input, Embedding\n",
    "from keras.optimizers import RMSprop,Adam\n",
    "from keras.preprocessing.text import Tokenizer\n",
    "from keras.preprocessing import sequence\n",
    "from keras.utils import to_categorical\n",
    "from keras.callbacks import EarlyStopping\n",
    "from sklearn.utils import shuffle\n",
    "%matplotlib inline\n",
    "from tensorflow.keras.preprocessing.text import Tokenizer\n",
    "from tensorflow.keras.preprocessing.sequence import pad_sequences\n",
    "from sklearn.preprocessing import LabelEncoder\n",
    "import pickle\n",
    "import pandas as pd"
   ]
  },
  {
   "cell_type": "code",
   "execution_count": 2,
   "metadata": {},
   "outputs": [],
   "source": [
    "import torch\n",
    "torch.cuda.empty_cache()"
   ]
  },
  {
   "cell_type": "code",
   "execution_count": 3,
   "metadata": {
    "colab": {
     "base_uri": "https://localhost:8080/"
    },
    "id": "1HsOkCtwaEuf",
    "outputId": "3ed58922-486d-4ae4-b426-a1a30cc54b4c",
    "scrolled": true
   },
   "outputs": [
    {
     "name": "stdout",
     "output_type": "stream",
     "text": [
      "       Unnamed: 0                                             review  label\n",
      "0               0  đồ_ăn ngon positive hợp_khẩu vị nhiều món nhân...      0\n",
      "1               1  chè bơ thơm positive có vị ngậy ngậy nhưng lại...      0\n",
      "2               2  chiều hôm nay mới đi ăn về nghe thiên_hạ đồn q...      0\n",
      "3               3  mình đặt_hàng qua tin nhắn với cửa_hàng hứa sá...      0\n",
      "4               4  ghé mấy lần rồi mà không review đi đâu cũng ch...      1\n",
      "...           ...                                                ...    ...\n",
      "40756       40756                                              thiếu      0\n",
      "40757       40757                                                xấu      0\n",
      "40758       40758                                                 ẩu      0\n",
      "40759       40759                                                lộn      0\n",
      "40760       40760                                           hoang_sơ      0\n",
      "\n",
      "[40760 rows x 3 columns]\n",
      "      Unnamed: 0                                             review  label\n",
      "0              0  gửi xe trong toà nhà somerset thu trước mình đ...      1\n",
      "1              1  sau khi xem review trên foody mình thấy các bạ...      0\n",
      "2              2  ít món hải_sản không tươi positive chỉ có món ...      0\n",
      "3              3  kết gà của popeyes lắm lắm không có chỗ nào ch...      1\n",
      "4              4  bánh waffles bị negative ngọt quá thêm mứt với...      0\n",
      "...          ...                                                ...    ...\n",
      "9995        9995  hình_như là món mới của quán mới nhào vô uống ...      1\n",
      "9996        9996  mình tới ngay ngày đầu_tiên khai_trương và nói...      0\n",
      "9997        9997  hôm bữa đã đọc các comment quán này và thấy ho...      0\n",
      "9998        9998  cả gia_đình du lich ra đà nẽng kem tuyết ngon ...      1\n",
      "9999        9999  quán có món bông lan trứng muối ngon positive ...      0\n",
      "\n",
      "[10000 rows x 3 columns]\n"
     ]
    }
   ],
   "source": [
    "df = pd.read_csv(\"NTC_SV_train.csv\")\n",
    "df_test = pd.read_csv('NTC_SV_test.csv')\n",
    "# df = pd.concat([df,df_test])\n",
    "df = df.dropna()\n",
    "print(df)\n",
    "print(df_test)"
   ]
  },
  {
   "cell_type": "code",
   "execution_count": 4,
   "metadata": {
    "id": "PPFb7__TaFhT"
   },
   "outputs": [],
   "source": [
    "data = df.review.astype(str).tolist()\n",
    "label = df.label.tolist()\n",
    "data_test = df_test.review.astype(str).tolist()\n",
    "label_test = df_test.label.tolist()"
   ]
  },
  {
   "cell_type": "code",
   "execution_count": null,
   "metadata": {
    "colab": {
     "base_uri": "https://localhost:8080/"
    },
    "id": "ayrzDxRvH8tn",
    "outputId": "a158aafe-c10a-4e16-d3b9-18589e08dafa"
   },
   "outputs": [],
   "source": [
    "# import zipfile\n",
    "# import os\n",
    "\n",
    "# # Specify the path to the zip file and the extraction directory\n",
    "# zip_file_path = '/content/drive/MyDrive/glove.zip'  # Change this to your zip file path\n",
    "# extract_dir = '/content/drive/MyDrive/glove_extracted/'  # Change this to your desired extraction directory\n",
    "\n",
    "# # Open the zip file and extract its contents\n",
    "# with zipfile.ZipFile(zip_file_path, 'r') as zip_ref:\n",
    "#     zip_ref.extractall(extract_dir)\n",
    "\n",
    "# # Verify the extracted files (optional)\n",
    "# print(f'Extracted files: {os.listdir(extract_dir)}')\n"
   ]
  },
  {
   "cell_type": "code",
   "execution_count": 5,
   "metadata": {
    "id": "sH1GHTMUO7bC"
   },
   "outputs": [],
   "source": [
    "import pickle\n",
    "with open(\"glove.840B.300d.pkl\", 'rb') as pickle_file:\n",
    "    embeddings_index = pickle.load(pickle_file)"
   ]
  },
  {
   "cell_type": "code",
   "execution_count": 6,
   "metadata": {
    "colab": {
     "base_uri": "https://localhost:8080/"
    },
    "id": "SIKSALJTO-CJ",
    "outputId": "92db4e54-476c-4ff6-b502-8bb7aff61a42"
   },
   "outputs": [
    {
     "name": "stdout",
     "output_type": "stream",
     "text": [
      "unique words : 27954\n",
      "Shape of data tensor: (40760, 300)\n"
     ]
    }
   ],
   "source": [
    "\n",
    "tokenizer  = Tokenizer(num_words = 10000)\n",
    "tokenizer.fit_on_texts(data)\n",
    "\n",
    "word_index = tokenizer.word_index\n",
    "print(\"unique words : {}\".format(len(word_index)))\n",
    "\n",
    "sequences =  tokenizer.texts_to_sequences(data)\n",
    "# maxlen = max([len(i) for i in data_n])\n",
    "maxlen = 300\n",
    "data = pad_sequences(sequences, maxlen=maxlen)\n",
    "\n",
    "le = LabelEncoder()\n",
    "\n",
    "label = le.fit_transform(label)\n",
    "labels = label.reshape(-1,1)\n",
    "labels_test = le.fit_transform(label_test)\n",
    "labels_test = labels_test.reshape(-1,1)\n",
    "# labels = to_categorical(np.asarray(label))\n",
    "# labels_test = to_categorical(np.asarray(label_test))\n",
    "print('Shape of data tensor:', data.shape)\n",
    "x_train,x_val,y_train,y_val = train_test_split(data,labels,test_size=0.15, random_state=48)"
   ]
  },
  {
   "cell_type": "code",
   "execution_count": 7,
   "metadata": {
    "id": "3sd6_QERPBqt"
   },
   "outputs": [],
   "source": [
    "def convert_to_sequences(texts):\n",
    "  sequences =  tokenizer.texts_to_sequences(texts)\n",
    "  return pad_sequences(sequences, maxlen=maxlen)"
   ]
  },
  {
   "cell_type": "code",
   "execution_count": 8,
   "metadata": {
    "colab": {
     "base_uri": "https://localhost:8080/"
    },
    "id": "kpNzAcD0PDnB",
    "outputId": "75c49477-37e0-49e1-b682-3a5f9a418023"
   },
   "outputs": [
    {
     "name": "stdout",
     "output_type": "stream",
     "text": [
      "300\n",
      "(27955, 300)\n"
     ]
    }
   ],
   "source": [
    "embedding_matrix = np.zeros((len(word_index) + 1, 300))\n",
    "print(300)\n",
    "print(embedding_matrix.shape)\n",
    "for word, i in word_index.items():\n",
    "    # print(word)\n",
    "    try:\n",
    "        embedding_vector = embeddings_index['word_vectors'][embeddings_index['dictionary'][word]]\n",
    "    except KeyError:\n",
    "        embedding_vector = None\n",
    "    if embedding_vector is not None:\n",
    "        # words not found in embedding index will be all-zeros.\n",
    "        embedding_matrix[i] = embedding_vector"
   ]
  },
  {
   "cell_type": "code",
   "execution_count": 9,
   "metadata": {
    "id": "vC5Nc4qCPF_Z"
   },
   "outputs": [],
   "source": [
    "def RNN():\n",
    "    inputs = Input(name='inputs',shape=[maxlen])\n",
    "    layer = Embedding(len(word_index)+1,300,input_length=maxlen)(inputs)\n",
    "    layer = LSTM(units=256)(layer)\n",
    "    layer = Dense(256,activation = 'relu')(layer)\n",
    "    layer = Dense(1,activation='sigmoid')(layer)\n",
    "    model = Model(inputs=inputs,outputs=layer)\n",
    "    return model"
   ]
  },
  {
   "cell_type": "code",
   "execution_count": 10,
   "metadata": {
    "colab": {
     "base_uri": "https://localhost:8080/"
    },
    "id": "DQWHgBB9PH4Y",
    "outputId": "49f09aa2-1439-4f5d-c6c9-2d857c50c1d1",
    "scrolled": true
   },
   "outputs": [
    {
     "name": "stderr",
     "output_type": "stream",
     "text": [
      "2024-04-15 01:26:30.900852: I tensorflow/core/platform/cpu_feature_guard.cc:193] This TensorFlow binary is optimized with oneAPI Deep Neural Network Library (oneDNN) to use the following CPU instructions in performance-critical operations:  AVX2 FMA\n",
      "To enable them in other operations, rebuild TensorFlow with the appropriate compiler flags.\n",
      "2024-04-15 01:26:38.318463: I tensorflow/core/common_runtime/gpu/gpu_device.cc:1616] Created device /job:localhost/replica:0/task:0/device:GPU:0 with 9639 MB memory:  -> device: 0, name: NVIDIA GeForce RTX 2080 Ti, pci bus id: 0000:08:00.0, compute capability: 7.5\n",
      "2024-04-15 01:26:38.320008: I tensorflow/core/common_runtime/gpu/gpu_device.cc:1616] Created device /job:localhost/replica:0/task:0/device:GPU:1 with 9639 MB memory:  -> device: 1, name: NVIDIA GeForce RTX 2080 Ti, pci bus id: 0000:09:00.0, compute capability: 7.5\n",
      "2024-04-15 01:26:38.321316: I tensorflow/core/common_runtime/gpu/gpu_device.cc:1616] Created device /job:localhost/replica:0/task:0/device:GPU:2 with 9639 MB memory:  -> device: 2, name: NVIDIA GeForce RTX 2080 Ti, pci bus id: 0000:87:00.0, compute capability: 7.5\n",
      "2024-04-15 01:26:38.322583: I tensorflow/core/common_runtime/gpu/gpu_device.cc:1616] Created device /job:localhost/replica:0/task:0/device:GPU:3 with 7379 MB memory:  -> device: 3, name: NVIDIA GeForce GTX 1080, pci bus id: 0000:04:00.0, compute capability: 6.1\n",
      "2024-04-15 01:26:38.323827: I tensorflow/core/common_runtime/gpu/gpu_device.cc:1616] Created device /job:localhost/replica:0/task:0/device:GPU:4 with 7379 MB memory:  -> device: 4, name: NVIDIA GeForce GTX 1080, pci bus id: 0000:05:00.0, compute capability: 6.1\n",
      "2024-04-15 01:26:38.325064: I tensorflow/core/common_runtime/gpu/gpu_device.cc:1616] Created device /job:localhost/replica:0/task:0/device:GPU:5 with 7379 MB memory:  -> device: 5, name: NVIDIA GeForce GTX 1080, pci bus id: 0000:83:00.0, compute capability: 6.1\n",
      "2024-04-15 01:26:38.326325: I tensorflow/core/common_runtime/gpu/gpu_device.cc:1616] Created device /job:localhost/replica:0/task:0/device:GPU:6 with 7379 MB memory:  -> device: 6, name: NVIDIA GeForce GTX 1080, pci bus id: 0000:84:00.0, compute capability: 6.1\n"
     ]
    },
    {
     "name": "stdout",
     "output_type": "stream",
     "text": [
      "Model: \"model\"\n",
      "_________________________________________________________________\n",
      " Layer (type)                Output Shape              Param #   \n",
      "=================================================================\n",
      " inputs (InputLayer)         [(None, 300)]             0         \n",
      "                                                                 \n",
      " embedding (Embedding)       (None, 300, 300)          8386500   \n",
      "                                                                 \n",
      " lstm (LSTM)                 (None, 256)               570368    \n",
      "                                                                 \n",
      " dense (Dense)               (None, 256)               65792     \n",
      "                                                                 \n",
      " dense_1 (Dense)             (None, 1)                 257       \n",
      "                                                                 \n",
      "=================================================================\n",
      "Total params: 9,022,917\n",
      "Trainable params: 9,022,917\n",
      "Non-trainable params: 0\n",
      "_________________________________________________________________\n"
     ]
    }
   ],
   "source": [
    "from keras.callbacks import ModelCheckpoint\n",
    "\n",
    "model = RNN()\n",
    "checkpoint = ModelCheckpoint('weights_lstm_NTC_SV_glove_sentece.hdf5', monitor='val_accuracy', verbose=1, save_best_only=True, mode='auto')\n",
    "model.compile(loss='binary_crossentropy',optimizer=Adam(learning_rate=0.004),metrics=['accuracy'])\n",
    "model.summary()"
   ]
  },
  {
   "cell_type": "code",
   "execution_count": 11,
   "metadata": {
    "colab": {
     "base_uri": "https://localhost:8080/"
    },
    "id": "QhjlMcm1PJtx",
    "outputId": "d10c0ce3-c724-4c88-ed9c-cd5a486601d1"
   },
   "outputs": [
    {
     "name": "stdout",
     "output_type": "stream",
     "text": [
      "Epoch 1/2\n"
     ]
    },
    {
     "name": "stderr",
     "output_type": "stream",
     "text": [
      "2024-04-15 01:26:49.122677: I tensorflow/stream_executor/cuda/cuda_dnn.cc:384] Loaded cuDNN version 8904\n"
     ]
    },
    {
     "name": "stdout",
     "output_type": "stream",
     "text": [
      "271/271 [==============================] - ETA: 0s - loss: 0.4166 - accuracy: 0.8273\n",
      "Epoch 1: val_accuracy improved from -inf to 0.81338, saving model to weights_lstm_NTC_SV_glove_sentece.hdf5\n",
      "271/271 [==============================] - 15s 44ms/step - loss: 0.4166 - accuracy: 0.8273 - val_loss: 0.4396 - val_accuracy: 0.8134\n",
      "Epoch 2/2\n",
      "269/271 [============================>.] - ETA: 0s - loss: 0.2679 - accuracy: 0.8930\n",
      "Epoch 2: val_accuracy improved from 0.81338 to 0.88633, saving model to weights_lstm_NTC_SV_glove_sentece.hdf5\n",
      "271/271 [==============================] - 10s 37ms/step - loss: 0.2678 - accuracy: 0.8931 - val_loss: 0.2804 - val_accuracy: 0.8863\n"
     ]
    }
   ],
   "source": [
    "history = model.fit(x_train,y_train,batch_size=128,epochs=2,verbose=1,\n",
    "          callbacks=[checkpoint], validation_data=[x_val,y_val])"
   ]
  },
  {
   "cell_type": "code",
   "execution_count": 12,
   "metadata": {
    "colab": {
     "base_uri": "https://localhost:8080/",
     "height": 472
    },
    "id": "W1eTvEGZPL_Z",
    "outputId": "2fe267bb-2f49-4cde-ad77-55cd013c4c6d"
   },
   "outputs": [
    {
     "data": {
      "image/png": "[encoded data removed]",
      "text/plain": [
       "<Figure size 640x480 with 1 Axes>"
      ]
     },
     "metadata": {},
     "output_type": "display_data"
    }
   ],
   "source": [
    "plt.plot(history.history['accuracy'])\n",
    "plt.plot(history.history['val_accuracy'])\n",
    "plt.title('model accuracy')\n",
    "plt.ylabel('accuracy')\n",
    "plt.xlabel('epoch')\n",
    "plt.legend(['train', 'val'], loc='upper left')\n",
    "plt.show()"
   ]
  },
  {
   "cell_type": "code",
   "execution_count": 13,
   "metadata": {
    "colab": {
     "base_uri": "https://localhost:8080/",
     "height": 472
    },
    "id": "nW3wtJJqPNcT",
    "outputId": "112efa05-da7a-4d56-ff4d-f191dbb2727e"
   },
   "outputs": [
    {
     "data": {
      "image/png": "[encoded data removed]",
      "text/plain": [
       "<Figure size 640x480 with 1 Axes>"
      ]
     },
     "metadata": {},
     "output_type": "display_data"
    }
   ],
   "source": [
    "plt.plot(history.history['loss'])\n",
    "plt.plot(history.history['val_loss'])\n",
    "plt.title('model loss')\n",
    "plt.ylabel('loss')\n",
    "plt.xlabel('epoch')\n",
    "plt.legend(['train', 'val'], loc='upper left')\n",
    "plt.show()"
   ]
  },
  {
   "cell_type": "code",
   "execution_count": 14,
   "metadata": {
    "id": "8s9TCiFDPQCA"
   },
   "outputs": [],
   "source": [
    "from keras.models import load_model\n",
    "model = load_model('weights_lstm_NTC_SV_glove_sentece.hdf5')\n",
    "# a = convert_to_sequences(x)\n",
    "# accr = model.evaluate(a,labels_test)\n",
    "# print('Test set\\n  Loss: {:0.3f}\\n  Accuracy: {:0.3f}'.format(accr[0],accr[1]))"
   ]
  },
  {
   "cell_type": "code",
   "execution_count": 15,
   "metadata": {
    "colab": {
     "base_uri": "https://localhost:8080/"
    },
    "id": "Ha8dYgqvDcmL",
    "outputId": "42a2f983-bcfe-440f-e238-7edda30bb009"
   },
   "outputs": [
    {
     "name": "stdout",
     "output_type": "stream",
     "text": [
      "313/313 [==============================] - 3s 8ms/step\n",
      "0.902108725091894\n",
      "0.8735481453727988\n",
      "0.9326\n"
     ]
    }
   ],
   "source": [
    "from sklearn import metrics\n",
    "acc = model.predict(convert_to_sequences(data_test))\n",
    "accr = np.round(acc)\n",
    "print(metrics.f1_score(labels_test, accr))\n",
    "print(metrics.precision_score(labels_test, accr))\n",
    "print(metrics.recall_score(labels_test, accr))"
   ]
  },
  {
   "cell_type": "code",
   "execution_count": 16,
   "metadata": {
    "id": "8gSHQAKwq22b"
   },
   "outputs": [
    {
     "name": "stdout",
     "output_type": "stream",
     "text": [
      "Accuracy: 0.8988\n"
     ]
    }
   ],
   "source": [
    "accuracy = metrics.accuracy_score(labels_test, accr)\n",
    "print(\"Accuracy:\", accuracy)"
   ]
  },
  {
   "cell_type": "code",
   "execution_count": null,
   "metadata": {},
   "outputs": [],
   "source": []
  }
 ],
 "metadata": {
  "accelerator": "GPU",
  "colab": {
   "machine_shape": "hm",
   "provenance": []
  },
  "kernelspec": {
   "display_name": "Python 3 (ipykernel)",
   "language": "python",
   "name": "python3"
  },
  "language_info": {
   "codemirror_mode": {
    "name": "ipython",
    "version": 3
   },
   "file_extension": ".py",
   "mimetype": "text/x-python",
   "name": "python",
   "nbconvert_exporter": "python",
   "pygments_lexer": "ipython3",
   "version": "3.10.12"
  }
 },
 "nbformat": 4,
 "nbformat_minor": 4
}
